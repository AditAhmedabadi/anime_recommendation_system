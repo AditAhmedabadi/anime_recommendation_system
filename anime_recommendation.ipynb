{
 "cells": [
  {
   "cell_type": "markdown",
   "metadata": {
    "id": "plx25OnQ4vUe"
   },
   "source": [
    "## Importing Required Modules"
   ]
  },
  {
   "cell_type": "code",
   "execution_count": 1,
   "metadata": {
    "colab": {
     "base_uri": "https://localhost:8080/"
    },
    "id": "KS0WygoF4vUf",
    "outputId": "3293de69-6523-46f4-c8b7-58d6d9dcfca8"
   },
   "outputs": [
    {
     "name": "stdout",
     "output_type": "stream",
     "text": [
      "2.3.1\n"
     ]
    }
   ],
   "source": [
    "import numpy as np\n",
    "import pandas as pd\n",
    "from sklearn.preprocessing import MinMaxScaler\n",
    "from sklearn.neighbors import NearestNeighbors\n",
    "import tensorflow as tf\n",
    "\n",
    "print(tf.__version__)"
   ]
  },
  {
   "cell_type": "markdown",
   "metadata": {
    "id": "oT5MD5Y54vUi"
   },
   "source": [
    "## Fetching the Dataset as a Pandas DataFrame"
   ]
  },
  {
   "cell_type": "code",
   "execution_count": 2,
   "metadata": {
    "colab": {
     "base_uri": "https://localhost:8080/",
     "height": 195
    },
    "id": "hHBLXeTH4vUj",
    "outputId": "75774b33-c1aa-4685-8f88-54d7c924ec6b"
   },
   "outputs": [
    {
     "data": {
      "text/html": [
       "<div>\n",
       "<style scoped>\n",
       "    .dataframe tbody tr th:only-of-type {\n",
       "        vertical-align: middle;\n",
       "    }\n",
       "\n",
       "    .dataframe tbody tr th {\n",
       "        vertical-align: top;\n",
       "    }\n",
       "\n",
       "    .dataframe thead th {\n",
       "        text-align: right;\n",
       "    }\n",
       "</style>\n",
       "<table border=\"1\" class=\"dataframe\">\n",
       "  <thead>\n",
       "    <tr style=\"text-align: right;\">\n",
       "      <th></th>\n",
       "      <th>anime_id</th>\n",
       "      <th>name</th>\n",
       "      <th>genre</th>\n",
       "      <th>type</th>\n",
       "      <th>episodes</th>\n",
       "      <th>rating</th>\n",
       "      <th>members</th>\n",
       "    </tr>\n",
       "  </thead>\n",
       "  <tbody>\n",
       "    <tr>\n",
       "      <th>0</th>\n",
       "      <td>32281</td>\n",
       "      <td>Kimi no Na wa.</td>\n",
       "      <td>Drama, Romance, School, Supernatural</td>\n",
       "      <td>Movie</td>\n",
       "      <td>1</td>\n",
       "      <td>9.37</td>\n",
       "      <td>200630</td>\n",
       "    </tr>\n",
       "    <tr>\n",
       "      <th>1</th>\n",
       "      <td>5114</td>\n",
       "      <td>Fullmetal Alchemist: Brotherhood</td>\n",
       "      <td>Action, Adventure, Drama, Fantasy, Magic, Mili...</td>\n",
       "      <td>TV</td>\n",
       "      <td>64</td>\n",
       "      <td>9.26</td>\n",
       "      <td>793665</td>\n",
       "    </tr>\n",
       "    <tr>\n",
       "      <th>2</th>\n",
       "      <td>28977</td>\n",
       "      <td>Gintama°</td>\n",
       "      <td>Action, Comedy, Historical, Parody, Samurai, S...</td>\n",
       "      <td>TV</td>\n",
       "      <td>51</td>\n",
       "      <td>9.25</td>\n",
       "      <td>114262</td>\n",
       "    </tr>\n",
       "    <tr>\n",
       "      <th>3</th>\n",
       "      <td>9253</td>\n",
       "      <td>Steins;Gate</td>\n",
       "      <td>Sci-Fi, Thriller</td>\n",
       "      <td>TV</td>\n",
       "      <td>24</td>\n",
       "      <td>9.17</td>\n",
       "      <td>673572</td>\n",
       "    </tr>\n",
       "    <tr>\n",
       "      <th>4</th>\n",
       "      <td>9969</td>\n",
       "      <td>Gintama&amp;#039;</td>\n",
       "      <td>Action, Comedy, Historical, Parody, Samurai, S...</td>\n",
       "      <td>TV</td>\n",
       "      <td>51</td>\n",
       "      <td>9.16</td>\n",
       "      <td>151266</td>\n",
       "    </tr>\n",
       "  </tbody>\n",
       "</table>\n",
       "</div>"
      ],
      "text/plain": [
       "   anime_id                              name  \\\n",
       "0     32281                    Kimi no Na wa.   \n",
       "1      5114  Fullmetal Alchemist: Brotherhood   \n",
       "2     28977                          Gintama°   \n",
       "3      9253                       Steins;Gate   \n",
       "4      9969                     Gintama&#039;   \n",
       "\n",
       "                                               genre   type episodes  rating  \\\n",
       "0               Drama, Romance, School, Supernatural  Movie        1    9.37   \n",
       "1  Action, Adventure, Drama, Fantasy, Magic, Mili...     TV       64    9.26   \n",
       "2  Action, Comedy, Historical, Parody, Samurai, S...     TV       51    9.25   \n",
       "3                                   Sci-Fi, Thriller     TV       24    9.17   \n",
       "4  Action, Comedy, Historical, Parody, Samurai, S...     TV       51    9.16   \n",
       "\n",
       "   members  \n",
       "0   200630  \n",
       "1   793665  \n",
       "2   114262  \n",
       "3   673572  \n",
       "4   151266  "
      ]
     },
     "execution_count": 2,
     "metadata": {},
     "output_type": "execute_result"
    }
   ],
   "source": [
    "anime_df = pd.read_csv('anime.csv')\n",
    "anime_df.head()"
   ]
  },
  {
   "cell_type": "code",
   "execution_count": 3,
   "metadata": {},
   "outputs": [
    {
     "data": {
      "text/plain": [
       "array(['Movie', 'TV', 'OVA', 'Special', 'Music', 'ONA', nan], dtype=object)"
      ]
     },
     "execution_count": 3,
     "metadata": {},
     "output_type": "execute_result"
    }
   ],
   "source": [
    "anime_df['type'].unique()"
   ]
  },
  {
   "cell_type": "code",
   "execution_count": 4,
   "metadata": {},
   "outputs": [
    {
     "data": {
      "text/html": [
       "<div>\n",
       "<style scoped>\n",
       "    .dataframe tbody tr th:only-of-type {\n",
       "        vertical-align: middle;\n",
       "    }\n",
       "\n",
       "    .dataframe tbody tr th {\n",
       "        vertical-align: top;\n",
       "    }\n",
       "\n",
       "    .dataframe thead th {\n",
       "        text-align: right;\n",
       "    }\n",
       "</style>\n",
       "<table border=\"1\" class=\"dataframe\">\n",
       "  <thead>\n",
       "    <tr style=\"text-align: right;\">\n",
       "      <th></th>\n",
       "      <th>anime_id</th>\n",
       "      <th>title</th>\n",
       "      <th>title_english</th>\n",
       "      <th>title_japanese</th>\n",
       "      <th>title_synonyms</th>\n",
       "      <th>image_url</th>\n",
       "      <th>type</th>\n",
       "      <th>source</th>\n",
       "      <th>episodes</th>\n",
       "      <th>status</th>\n",
       "      <th>...</th>\n",
       "      <th>background</th>\n",
       "      <th>premiered</th>\n",
       "      <th>broadcast</th>\n",
       "      <th>related</th>\n",
       "      <th>producer</th>\n",
       "      <th>licensor</th>\n",
       "      <th>studio</th>\n",
       "      <th>genre</th>\n",
       "      <th>opening_theme</th>\n",
       "      <th>ending_theme</th>\n",
       "    </tr>\n",
       "  </thead>\n",
       "  <tbody>\n",
       "    <tr>\n",
       "      <th>0</th>\n",
       "      <td>11013</td>\n",
       "      <td>Inu x Boku SS</td>\n",
       "      <td>Inu X Boku Secret Service</td>\n",
       "      <td>妖狐×僕SS</td>\n",
       "      <td>Youko x Boku SS</td>\n",
       "      <td>https://myanimelist.cdn-dena.com/images/anime/...</td>\n",
       "      <td>TV</td>\n",
       "      <td>Manga</td>\n",
       "      <td>12</td>\n",
       "      <td>Finished Airing</td>\n",
       "      <td>...</td>\n",
       "      <td>Inu x Boku SS was licensed by Sentai Filmworks...</td>\n",
       "      <td>Winter 2012</td>\n",
       "      <td>Fridays at Unknown</td>\n",
       "      <td>{'Adaptation': [{'mal_id': 17207, 'type': 'man...</td>\n",
       "      <td>Aniplex, Square Enix, Mainichi Broadcasting Sy...</td>\n",
       "      <td>Sentai Filmworks</td>\n",
       "      <td>David Production</td>\n",
       "      <td>Comedy, Supernatural, Romance, Shounen</td>\n",
       "      <td>['\"Nirvana\" by MUCC']</td>\n",
       "      <td>['#1: \"Nirvana\" by MUCC (eps 1, 11-12)', '#2: ...</td>\n",
       "    </tr>\n",
       "    <tr>\n",
       "      <th>1</th>\n",
       "      <td>2104</td>\n",
       "      <td>Seto no Hanayome</td>\n",
       "      <td>My Bride is a Mermaid</td>\n",
       "      <td>瀬戸の花嫁</td>\n",
       "      <td>The Inland Sea Bride</td>\n",
       "      <td>https://myanimelist.cdn-dena.com/images/anime/...</td>\n",
       "      <td>TV</td>\n",
       "      <td>Manga</td>\n",
       "      <td>26</td>\n",
       "      <td>Finished Airing</td>\n",
       "      <td>...</td>\n",
       "      <td>NaN</td>\n",
       "      <td>Spring 2007</td>\n",
       "      <td>Unknown</td>\n",
       "      <td>{'Adaptation': [{'mal_id': 759, 'type': 'manga...</td>\n",
       "      <td>TV Tokyo, AIC, Square Enix, Sotsu</td>\n",
       "      <td>Funimation</td>\n",
       "      <td>Gonzo</td>\n",
       "      <td>Comedy, Parody, Romance, School, Shounen</td>\n",
       "      <td>['\"Romantic summer\" by SUN&amp;LUNAR']</td>\n",
       "      <td>['#1: \"Ashita e no Hikari (明日への光)\" by Asuka Hi...</td>\n",
       "    </tr>\n",
       "    <tr>\n",
       "      <th>2</th>\n",
       "      <td>5262</td>\n",
       "      <td>Shugo Chara!! Doki</td>\n",
       "      <td>Shugo Chara!! Doki</td>\n",
       "      <td>しゅごキャラ！！どきっ</td>\n",
       "      <td>Shugo Chara Ninenme, Shugo Chara! Second Year</td>\n",
       "      <td>https://myanimelist.cdn-dena.com/images/anime/...</td>\n",
       "      <td>TV</td>\n",
       "      <td>Manga</td>\n",
       "      <td>51</td>\n",
       "      <td>Finished Airing</td>\n",
       "      <td>...</td>\n",
       "      <td>NaN</td>\n",
       "      <td>Fall 2008</td>\n",
       "      <td>Unknown</td>\n",
       "      <td>{'Adaptation': [{'mal_id': 101, 'type': 'manga...</td>\n",
       "      <td>TV Tokyo, Sotsu</td>\n",
       "      <td>NaN</td>\n",
       "      <td>Satelight</td>\n",
       "      <td>Comedy, Magic, School, Shoujo</td>\n",
       "      <td>['#1: \"Minna no Tamago (みんなのたまご)\" by Shugo Cha...</td>\n",
       "      <td>['#1: \"Rottara Rottara (ロッタラ ロッタラ)\" by Buono! ...</td>\n",
       "    </tr>\n",
       "    <tr>\n",
       "      <th>3</th>\n",
       "      <td>721</td>\n",
       "      <td>Princess Tutu</td>\n",
       "      <td>Princess Tutu</td>\n",
       "      <td>プリンセスチュチュ</td>\n",
       "      <td>NaN</td>\n",
       "      <td>https://myanimelist.cdn-dena.com/images/anime/...</td>\n",
       "      <td>TV</td>\n",
       "      <td>Original</td>\n",
       "      <td>38</td>\n",
       "      <td>Finished Airing</td>\n",
       "      <td>...</td>\n",
       "      <td>Princess Tutu aired in two parts. The first pa...</td>\n",
       "      <td>Summer 2002</td>\n",
       "      <td>Fridays at Unknown</td>\n",
       "      <td>{'Adaptation': [{'mal_id': 1581, 'type': 'mang...</td>\n",
       "      <td>Memory-Tech, GANSIS, Marvelous AQL</td>\n",
       "      <td>ADV Films</td>\n",
       "      <td>Hal Film Maker</td>\n",
       "      <td>Comedy, Drama, Magic, Romance, Fantasy</td>\n",
       "      <td>['\"Morning Grace\" by Ritsuko Okazaki']</td>\n",
       "      <td>['\"Watashi No Ai Wa Chiisaikeredo\" by Ritsuko ...</td>\n",
       "    </tr>\n",
       "    <tr>\n",
       "      <th>4</th>\n",
       "      <td>12365</td>\n",
       "      <td>Bakuman. 3rd Season</td>\n",
       "      <td>Bakuman.</td>\n",
       "      <td>バクマン。</td>\n",
       "      <td>Bakuman Season 3</td>\n",
       "      <td>https://myanimelist.cdn-dena.com/images/anime/...</td>\n",
       "      <td>TV</td>\n",
       "      <td>Manga</td>\n",
       "      <td>25</td>\n",
       "      <td>Finished Airing</td>\n",
       "      <td>...</td>\n",
       "      <td>NaN</td>\n",
       "      <td>Fall 2012</td>\n",
       "      <td>Unknown</td>\n",
       "      <td>{'Adaptation': [{'mal_id': 9711, 'type': 'mang...</td>\n",
       "      <td>NHK, Shueisha</td>\n",
       "      <td>NaN</td>\n",
       "      <td>J.C.Staff</td>\n",
       "      <td>Comedy, Drama, Romance, Shounen</td>\n",
       "      <td>['#1: \"Moshimo no Hanashi (もしもの話)\" by nano.RIP...</td>\n",
       "      <td>['#1: \"Pride on Everyday\" by Sphere (eps 1-13)...</td>\n",
       "    </tr>\n",
       "  </tbody>\n",
       "</table>\n",
       "<p>5 rows × 31 columns</p>\n",
       "</div>"
      ],
      "text/plain": [
       "   anime_id                title              title_english title_japanese  \\\n",
       "0     11013        Inu x Boku SS  Inu X Boku Secret Service         妖狐×僕SS   \n",
       "1      2104     Seto no Hanayome      My Bride is a Mermaid          瀬戸の花嫁   \n",
       "2      5262   Shugo Chara!! Doki         Shugo Chara!! Doki    しゅごキャラ！！どきっ   \n",
       "3       721        Princess Tutu              Princess Tutu      プリンセスチュチュ   \n",
       "4     12365  Bakuman. 3rd Season                   Bakuman.          バクマン。   \n",
       "\n",
       "                                  title_synonyms  \\\n",
       "0                                Youko x Boku SS   \n",
       "1                           The Inland Sea Bride   \n",
       "2  Shugo Chara Ninenme, Shugo Chara! Second Year   \n",
       "3                                            NaN   \n",
       "4                               Bakuman Season 3   \n",
       "\n",
       "                                           image_url type    source  episodes  \\\n",
       "0  https://myanimelist.cdn-dena.com/images/anime/...   TV     Manga        12   \n",
       "1  https://myanimelist.cdn-dena.com/images/anime/...   TV     Manga        26   \n",
       "2  https://myanimelist.cdn-dena.com/images/anime/...   TV     Manga        51   \n",
       "3  https://myanimelist.cdn-dena.com/images/anime/...   TV  Original        38   \n",
       "4  https://myanimelist.cdn-dena.com/images/anime/...   TV     Manga        25   \n",
       "\n",
       "            status  ...                                         background  \\\n",
       "0  Finished Airing  ...  Inu x Boku SS was licensed by Sentai Filmworks...   \n",
       "1  Finished Airing  ...                                                NaN   \n",
       "2  Finished Airing  ...                                                NaN   \n",
       "3  Finished Airing  ...  Princess Tutu aired in two parts. The first pa...   \n",
       "4  Finished Airing  ...                                                NaN   \n",
       "\n",
       "     premiered           broadcast  \\\n",
       "0  Winter 2012  Fridays at Unknown   \n",
       "1  Spring 2007             Unknown   \n",
       "2    Fall 2008             Unknown   \n",
       "3  Summer 2002  Fridays at Unknown   \n",
       "4    Fall 2012             Unknown   \n",
       "\n",
       "                                             related  \\\n",
       "0  {'Adaptation': [{'mal_id': 17207, 'type': 'man...   \n",
       "1  {'Adaptation': [{'mal_id': 759, 'type': 'manga...   \n",
       "2  {'Adaptation': [{'mal_id': 101, 'type': 'manga...   \n",
       "3  {'Adaptation': [{'mal_id': 1581, 'type': 'mang...   \n",
       "4  {'Adaptation': [{'mal_id': 9711, 'type': 'mang...   \n",
       "\n",
       "                                            producer          licensor  \\\n",
       "0  Aniplex, Square Enix, Mainichi Broadcasting Sy...  Sentai Filmworks   \n",
       "1                  TV Tokyo, AIC, Square Enix, Sotsu        Funimation   \n",
       "2                                    TV Tokyo, Sotsu               NaN   \n",
       "3                 Memory-Tech, GANSIS, Marvelous AQL         ADV Films   \n",
       "4                                      NHK, Shueisha               NaN   \n",
       "\n",
       "             studio                                     genre  \\\n",
       "0  David Production    Comedy, Supernatural, Romance, Shounen   \n",
       "1             Gonzo  Comedy, Parody, Romance, School, Shounen   \n",
       "2         Satelight             Comedy, Magic, School, Shoujo   \n",
       "3    Hal Film Maker    Comedy, Drama, Magic, Romance, Fantasy   \n",
       "4         J.C.Staff           Comedy, Drama, Romance, Shounen   \n",
       "\n",
       "                                       opening_theme  \\\n",
       "0                              ['\"Nirvana\" by MUCC']   \n",
       "1                 ['\"Romantic summer\" by SUN&LUNAR']   \n",
       "2  ['#1: \"Minna no Tamago (みんなのたまご)\" by Shugo Cha...   \n",
       "3             ['\"Morning Grace\" by Ritsuko Okazaki']   \n",
       "4  ['#1: \"Moshimo no Hanashi (もしもの話)\" by nano.RIP...   \n",
       "\n",
       "                                        ending_theme  \n",
       "0  ['#1: \"Nirvana\" by MUCC (eps 1, 11-12)', '#2: ...  \n",
       "1  ['#1: \"Ashita e no Hikari (明日への光)\" by Asuka Hi...  \n",
       "2  ['#1: \"Rottara Rottara (ロッタラ ロッタラ)\" by Buono! ...  \n",
       "3  ['\"Watashi No Ai Wa Chiisaikeredo\" by Ritsuko ...  \n",
       "4  ['#1: \"Pride on Everyday\" by Sphere (eps 1-13)...  \n",
       "\n",
       "[5 rows x 31 columns]"
      ]
     },
     "execution_count": 4,
     "metadata": {},
     "output_type": "execute_result"
    }
   ],
   "source": [
    "anime_df_new = pd.read_csv('anime_2.csv')\n",
    "anime_df_new.head()"
   ]
  },
  {
   "cell_type": "markdown",
   "metadata": {},
   "source": [
    "### A second dataset to merge with the first one for a wider range of data and a more accurate recommendation system"
   ]
  },
  {
   "cell_type": "code",
   "execution_count": 5,
   "metadata": {},
   "outputs": [
    {
     "data": {
      "text/html": [
       "<div>\n",
       "<style scoped>\n",
       "    .dataframe tbody tr th:only-of-type {\n",
       "        vertical-align: middle;\n",
       "    }\n",
       "\n",
       "    .dataframe tbody tr th {\n",
       "        vertical-align: top;\n",
       "    }\n",
       "\n",
       "    .dataframe thead th {\n",
       "        text-align: right;\n",
       "    }\n",
       "</style>\n",
       "<table border=\"1\" class=\"dataframe\">\n",
       "  <thead>\n",
       "    <tr style=\"text-align: right;\">\n",
       "      <th></th>\n",
       "      <th>anime_id</th>\n",
       "      <th>name</th>\n",
       "      <th>type</th>\n",
       "      <th>episodes</th>\n",
       "      <th>genre</th>\n",
       "      <th>rating</th>\n",
       "      <th>members</th>\n",
       "    </tr>\n",
       "  </thead>\n",
       "  <tbody>\n",
       "    <tr>\n",
       "      <th>0</th>\n",
       "      <td>11013</td>\n",
       "      <td>Inu x Boku SS</td>\n",
       "      <td>TV</td>\n",
       "      <td>12</td>\n",
       "      <td>Comedy, Supernatural, Romance, Shounen</td>\n",
       "      <td>7.63</td>\n",
       "      <td>283882</td>\n",
       "    </tr>\n",
       "    <tr>\n",
       "      <th>1</th>\n",
       "      <td>2104</td>\n",
       "      <td>Seto no Hanayome</td>\n",
       "      <td>TV</td>\n",
       "      <td>26</td>\n",
       "      <td>Comedy, Parody, Romance, School, Shounen</td>\n",
       "      <td>7.89</td>\n",
       "      <td>204003</td>\n",
       "    </tr>\n",
       "    <tr>\n",
       "      <th>2</th>\n",
       "      <td>5262</td>\n",
       "      <td>Shugo Chara!! Doki</td>\n",
       "      <td>TV</td>\n",
       "      <td>51</td>\n",
       "      <td>Comedy, Magic, School, Shoujo</td>\n",
       "      <td>7.55</td>\n",
       "      <td>70127</td>\n",
       "    </tr>\n",
       "    <tr>\n",
       "      <th>3</th>\n",
       "      <td>721</td>\n",
       "      <td>Princess Tutu</td>\n",
       "      <td>TV</td>\n",
       "      <td>38</td>\n",
       "      <td>Comedy, Drama, Magic, Romance, Fantasy</td>\n",
       "      <td>8.21</td>\n",
       "      <td>93312</td>\n",
       "    </tr>\n",
       "    <tr>\n",
       "      <th>4</th>\n",
       "      <td>12365</td>\n",
       "      <td>Bakuman. 3rd Season</td>\n",
       "      <td>TV</td>\n",
       "      <td>25</td>\n",
       "      <td>Comedy, Drama, Romance, Shounen</td>\n",
       "      <td>8.67</td>\n",
       "      <td>182765</td>\n",
       "    </tr>\n",
       "  </tbody>\n",
       "</table>\n",
       "</div>"
      ],
      "text/plain": [
       "   anime_id                 name type  episodes  \\\n",
       "0     11013        Inu x Boku SS   TV        12   \n",
       "1      2104     Seto no Hanayome   TV        26   \n",
       "2      5262   Shugo Chara!! Doki   TV        51   \n",
       "3       721        Princess Tutu   TV        38   \n",
       "4     12365  Bakuman. 3rd Season   TV        25   \n",
       "\n",
       "                                      genre  rating  members  \n",
       "0    Comedy, Supernatural, Romance, Shounen    7.63   283882  \n",
       "1  Comedy, Parody, Romance, School, Shounen    7.89   204003  \n",
       "2             Comedy, Magic, School, Shoujo    7.55    70127  \n",
       "3    Comedy, Drama, Magic, Romance, Fantasy    8.21    93312  \n",
       "4           Comedy, Drama, Romance, Shounen    8.67   182765  "
      ]
     },
     "execution_count": 5,
     "metadata": {},
     "output_type": "execute_result"
    }
   ],
   "source": [
    "anime_df_new = anime_df_new[['anime_id' , 'title' , 'type' , 'episodes', 'genre' , 'score' , 'members']]\n",
    "anime_df_new.rename(columns = {'title' : 'name' , 'score' : 'rating'} , inplace = True)\n",
    "anime_df_new.head()"
   ]
  },
  {
   "cell_type": "code",
   "execution_count": 6,
   "metadata": {},
   "outputs": [
    {
     "data": {
      "text/plain": [
       "array(['TV', 'Movie', 'Music', 'OVA', 'ONA', 'Special'], dtype=object)"
      ]
     },
     "execution_count": 6,
     "metadata": {},
     "output_type": "execute_result"
    }
   ],
   "source": [
    "anime_df_new = anime_df_new[anime_df_new['type'] != 'Unknown']\n",
    "anime_df_new['type'].unique()"
   ]
  },
  {
   "cell_type": "code",
   "execution_count": 7,
   "metadata": {
    "tags": []
   },
   "outputs": [
    {
     "name": "stdout",
     "output_type": "stream",
     "text": [
      "14448\n",
      "12294\n"
     ]
    }
   ],
   "source": [
    "\n",
    "print(len(anime_df_new.index))\n",
    "print(len(anime_df.index))\n",
    "for anime_id in anime_df_new['anime_id']:\n",
    "    if len(anime_df[anime_df['anime_id'] == anime_id].index) == 0:\n",
    "        anime_df_temp = anime_df_new[anime_df_new['anime_id'] == anime_id]\n",
    "        anime_df = anime_df.append(anime_df_temp , ignore_index=True , verify_integrity=True)      "
   ]
  },
  {
   "cell_type": "code",
   "execution_count": 8,
   "metadata": {},
   "outputs": [
    {
     "name": "stdout",
     "output_type": "stream",
     "text": [
      "14472\n"
     ]
    }
   ],
   "source": [
    "print(len(anime_df.index))"
   ]
  },
  {
   "cell_type": "markdown",
   "metadata": {
    "id": "klLiS8c845wo"
   },
   "source": [
    "Analysing all the types in dataset , replacing the nan type is required"
   ]
  },
  {
   "cell_type": "code",
   "execution_count": 9,
   "metadata": {
    "colab": {
     "base_uri": "https://localhost:8080/"
    },
    "id": "IiM3m1Qu46C2",
    "outputId": "adfd47f1-51ee-4776-94c8-bba9d89f6284"
   },
   "outputs": [
    {
     "name": "stdout",
     "output_type": "stream",
     "text": [
      "Number of Types : 7 \n",
      "Types: \n",
      " ['Movie', 'TV', 'OVA', 'Special', 'Music', 'ONA', nan]\n"
     ]
    }
   ],
   "source": [
    "types = anime_df['type'].unique().tolist()\n",
    "print(\"Number of Types : {} \\nTypes: \\n\".format(len(types)) , types)"
   ]
  },
  {
   "cell_type": "markdown",
   "metadata": {
    "id": "CJ_Z0ut74vUm"
   },
   "source": [
    "## Tuning the Dataset\n",
    "First , We will fill all the empty/'Unknown data' data cells with data individually.\n",
    "Like for the type movie , the episodes should be 1 so I will fill all the empty episode cells of type movie with 1\n",
    "Then , for Hentai also it has mostly 1 ep so I will do the same thing for hentai as well.\n",
    "\n",
    "Getting the number of None type datacells in each column"
   ]
  },
  {
   "cell_type": "code",
   "execution_count": 10,
   "metadata": {
    "colab": {
     "base_uri": "https://localhost:8080/"
    },
    "id": "81XdEt2I4vUn",
    "outputId": "c00eb677-8e74-48ba-be77-a42e99b6fb3d"
   },
   "outputs": [
    {
     "data": {
      "text/plain": [
       "anime_id      0\n",
       "name          0\n",
       "genre        84\n",
       "type         25\n",
       "episodes      0\n",
       "rating      230\n",
       "members       0\n",
       "dtype: int64"
      ]
     },
     "execution_count": 10,
     "metadata": {},
     "output_type": "execute_result"
    }
   ],
   "source": [
    "anime_df.isnull().sum()"
   ]
  },
  {
   "cell_type": "code",
   "execution_count": 11,
   "metadata": {
    "id": "0H5N36Su4vUq"
   },
   "outputs": [],
   "source": [
    "anime_df.loc[(anime_df['genre'] == 'Hentai') & (anime_df['episodes'] == 'Unknown')] = 1"
   ]
  },
  {
   "cell_type": "code",
   "execution_count": 12,
   "metadata": {
    "id": "SBGpGClc7ajS"
   },
   "outputs": [],
   "source": [
    "anime_df.loc[(anime_df['genre'] == 'Movie') & (anime_df['episodes'] == 'Unknown')] = 1"
   ]
  },
  {
   "cell_type": "markdown",
   "metadata": {
    "id": "vkymjqsG85Aj"
   },
   "source": [
    "As you can see below songs also have only one episode so we will replace the empty datacells in episodes column of Music type by 1"
   ]
  },
  {
   "cell_type": "code",
   "execution_count": 13,
   "metadata": {
    "colab": {
     "base_uri": "https://localhost:8080/",
     "height": 136
    },
    "id": "3yncjtJR8um_",
    "outputId": "c2bb7404-4692-4f45-a449-32699423e87a"
   },
   "outputs": [
    {
     "data": {
      "text/html": [
       "<div>\n",
       "<style scoped>\n",
       "    .dataframe tbody tr th:only-of-type {\n",
       "        vertical-align: middle;\n",
       "    }\n",
       "\n",
       "    .dataframe tbody tr th {\n",
       "        vertical-align: top;\n",
       "    }\n",
       "\n",
       "    .dataframe thead th {\n",
       "        text-align: right;\n",
       "    }\n",
       "</style>\n",
       "<table border=\"1\" class=\"dataframe\">\n",
       "  <thead>\n",
       "    <tr style=\"text-align: right;\">\n",
       "      <th></th>\n",
       "      <th>anime_id</th>\n",
       "      <th>name</th>\n",
       "      <th>genre</th>\n",
       "      <th>type</th>\n",
       "      <th>episodes</th>\n",
       "      <th>rating</th>\n",
       "      <th>members</th>\n",
       "    </tr>\n",
       "  </thead>\n",
       "  <tbody>\n",
       "    <tr>\n",
       "      <th>169</th>\n",
       "      <td>34240</td>\n",
       "      <td>Shelter</td>\n",
       "      <td>Music, Sci-Fi</td>\n",
       "      <td>Music</td>\n",
       "      <td>1</td>\n",
       "      <td>8.38</td>\n",
       "      <td>71136</td>\n",
       "    </tr>\n",
       "    <tr>\n",
       "      <th>336</th>\n",
       "      <td>731</td>\n",
       "      <td>Interstella5555: The 5tory of The 5ecret 5tar ...</td>\n",
       "      <td>Adventure, Drama, Music, Sci-Fi</td>\n",
       "      <td>Music</td>\n",
       "      <td>1</td>\n",
       "      <td>8.17</td>\n",
       "      <td>31464</td>\n",
       "    </tr>\n",
       "    <tr>\n",
       "      <th>533</th>\n",
       "      <td>17949</td>\n",
       "      <td>The Everlasting Guilty Crown</td>\n",
       "      <td>Music</td>\n",
       "      <td>Music</td>\n",
       "      <td>1</td>\n",
       "      <td>8.00</td>\n",
       "      <td>11663</td>\n",
       "    </tr>\n",
       "  </tbody>\n",
       "</table>\n",
       "</div>"
      ],
      "text/plain": [
       "     anime_id                                               name  \\\n",
       "169     34240                                            Shelter   \n",
       "336       731  Interstella5555: The 5tory of The 5ecret 5tar ...   \n",
       "533     17949                       The Everlasting Guilty Crown   \n",
       "\n",
       "                               genre   type episodes  rating  members  \n",
       "169                    Music, Sci-Fi  Music        1    8.38    71136  \n",
       "336  Adventure, Drama, Music, Sci-Fi  Music        1    8.17    31464  \n",
       "533                            Music  Music        1    8.00    11663  "
      ]
     },
     "execution_count": 13,
     "metadata": {},
     "output_type": "execute_result"
    }
   ],
   "source": [
    "anime_df[anime_df['type'] == 'Music'].head(3)"
   ]
  },
  {
   "cell_type": "code",
   "execution_count": 14,
   "metadata": {
    "id": "IkhrYaN68lZC"
   },
   "outputs": [],
   "source": [
    "anime_df.loc[(anime_df['type'] == 'Music') & (anime_df['episodes'] == 'Unknown')] = 1"
   ]
  },
  {
   "cell_type": "markdown",
   "metadata": {
    "id": "6S9z8Ev49o6T"
   },
   "source": [
    "#### Replacing the remaining 'Unknown' data cells in episodes by nan type"
   ]
  },
  {
   "cell_type": "code",
   "execution_count": 15,
   "metadata": {
    "id": "TIQtDqBo9I1h"
   },
   "outputs": [],
   "source": [
    "anime_df['episodes'] = anime_df['episodes'].map(lambda x: np.nan if x == 'Unknown' else x)"
   ]
  },
  {
   "cell_type": "markdown",
   "metadata": {
    "id": "ZmG1KhHt-Gpb"
   },
   "source": [
    "Filling all the nan types by the episodes column's median"
   ]
  },
  {
   "cell_type": "code",
   "execution_count": 16,
   "metadata": {
    "id": "ah4_TeoI-M-k"
   },
   "outputs": [],
   "source": [
    "anime_df['episodes'].fillna(anime_df['episodes'].median() , inplace = True)"
   ]
  },
  {
   "cell_type": "code",
   "execution_count": 17,
   "metadata": {
    "colab": {
     "base_uri": "https://localhost:8080/"
    },
    "id": "_gu0e_OG9V8Z",
    "outputId": "46cf31ad-6228-4538-e04c-9ad1d0f5428b"
   },
   "outputs": [
    {
     "data": {
      "text/plain": [
       "0"
      ]
     },
     "execution_count": 17,
     "metadata": {},
     "output_type": "execute_result"
    }
   ],
   "source": [
    "anime_df['episodes'].isnull().sum()"
   ]
  },
  {
   "cell_type": "code",
   "execution_count": 18,
   "metadata": {
    "colab": {
     "base_uri": "https://localhost:8080/"
    },
    "id": "h6LASxQ8-dm3",
    "outputId": "5f3cd9f9-d5c1-4c56-fe87-396d6cc65b1f"
   },
   "outputs": [
    {
     "name": "stdout",
     "output_type": "stream",
     "text": [
      "<class 'pandas.core.frame.DataFrame'>\n",
      "RangeIndex: 14472 entries, 0 to 14471\n",
      "Data columns (total 7 columns):\n",
      " #   Column    Non-Null Count  Dtype  \n",
      "---  ------    --------------  -----  \n",
      " 0   anime_id  14472 non-null  int64  \n",
      " 1   name      14472 non-null  object \n",
      " 2   genre     14388 non-null  object \n",
      " 3   type      14447 non-null  object \n",
      " 4   episodes  14472 non-null  object \n",
      " 5   rating    14247 non-null  float64\n",
      " 6   members   14472 non-null  int64  \n",
      "dtypes: float64(1), int64(2), object(4)\n",
      "memory usage: 791.6+ KB\n"
     ]
    }
   ],
   "source": [
    "anime_df.info()"
   ]
  },
  {
   "cell_type": "markdown",
   "metadata": {
    "id": "tGfGZVMA_5tL"
   },
   "source": [
    "Changing data types of columns"
   ]
  },
  {
   "cell_type": "code",
   "execution_count": 19,
   "metadata": {
    "colab": {
     "base_uri": "https://localhost:8080/"
    },
    "id": "fU9FH3l6Zx_x",
    "outputId": "8ba08fd7-f7d4-44a5-f3fb-373d50414707"
   },
   "outputs": [
    {
     "data": {
      "text/plain": [
       "0        True\n",
       "1        True\n",
       "2        True\n",
       "3        True\n",
       "4        True\n",
       "         ... \n",
       "14467    True\n",
       "14468    True\n",
       "14469    True\n",
       "14470    True\n",
       "14471    True\n",
       "Name: name, Length: 14472, dtype: bool"
      ]
     },
     "execution_count": 19,
     "metadata": {},
     "output_type": "execute_result"
    }
   ],
   "source": [
    "anime_df['name'] == anime_df['name'].replace(['Itadaki! Seieki♥'] , 'Itadaki! Seieki')"
   ]
  },
  {
   "cell_type": "code",
   "execution_count": 20,
   "metadata": {
    "id": "-RIoM2pP-9gR"
   },
   "outputs": [],
   "source": [
    "anime_df['members'] = anime_df['members'].astype(float)"
   ]
  },
  {
   "cell_type": "code",
   "execution_count": 21,
   "metadata": {
    "id": "F9DCBva5OKuS"
   },
   "outputs": [],
   "source": [
    "anime_df['rating'].fillna(anime_df['rating'].median() , inplace = True)"
   ]
  },
  {
   "cell_type": "code",
   "execution_count": 22,
   "metadata": {
    "colab": {
     "base_uri": "https://localhost:8080/"
    },
    "id": "uNLH1PJYBVlx",
    "outputId": "193e2259-07dc-47e6-cc0c-bd0772406f6d"
   },
   "outputs": [
    {
     "name": "stdout",
     "output_type": "stream",
     "text": [
      "<class 'pandas.core.frame.DataFrame'>\n",
      "RangeIndex: 14472 entries, 0 to 14471\n",
      "Data columns (total 7 columns):\n",
      " #   Column    Non-Null Count  Dtype  \n",
      "---  ------    --------------  -----  \n",
      " 0   anime_id  14472 non-null  int64  \n",
      " 1   name      14472 non-null  object \n",
      " 2   genre     14388 non-null  object \n",
      " 3   type      14447 non-null  object \n",
      " 4   episodes  14472 non-null  object \n",
      " 5   rating    14472 non-null  float64\n",
      " 6   members   14472 non-null  float64\n",
      "dtypes: float64(2), int64(1), object(4)\n",
      "memory usage: 791.6+ KB\n"
     ]
    }
   ],
   "source": [
    "anime_df.info()"
   ]
  },
  {
   "cell_type": "code",
   "execution_count": 23,
   "metadata": {
    "id": "DecvE-hfbKCf"
   },
   "outputs": [],
   "source": [
    "anime_df.replace(to_replace =\"Itadaki! Seieki♥\", \n",
    "                 value ='Itadaki! Seieki' , inplace = True) "
   ]
  },
  {
   "cell_type": "markdown",
   "metadata": {
    "id": "Lo5qxqnib5MZ"
   },
   "source": [
    "## Creating another dataset with Relevant Features and one hot encoding using get_dummies on genre and type column"
   ]
  },
  {
   "cell_type": "code",
   "execution_count": 24,
   "metadata": {
    "id": "qeurd7N_BoDW"
   },
   "outputs": [],
   "source": [
    "anime_data = pd.concat([anime_df['genre'].str.get_dummies(sep = ','),\n",
    "                         pd.get_dummies(anime_df['type']),\n",
    "                         anime_df['episodes'],\n",
    "                         anime_df['rating'],\n",
    "                         anime_df['members'],\n",
    "                         ] , axis = 1)"
   ]
  },
  {
   "cell_type": "markdown",
   "metadata": {
    "id": "7ZN41lU5cIkT"
   },
   "source": [
    "## How the Dataset looks after one hot encoding "
   ]
  },
  {
   "cell_type": "code",
   "execution_count": 25,
   "metadata": {
    "colab": {
     "base_uri": "https://localhost:8080/",
     "height": 278
    },
    "id": "UkjraYyzEkn4",
    "outputId": "f4035af8-467d-4760-e118-a380590ddae9"
   },
   "outputs": [
    {
     "data": {
      "text/html": [
       "<div>\n",
       "<style scoped>\n",
       "    .dataframe tbody tr th:only-of-type {\n",
       "        vertical-align: middle;\n",
       "    }\n",
       "\n",
       "    .dataframe tbody tr th {\n",
       "        vertical-align: top;\n",
       "    }\n",
       "\n",
       "    .dataframe thead th {\n",
       "        text-align: right;\n",
       "    }\n",
       "</style>\n",
       "<table border=\"1\" class=\"dataframe\">\n",
       "  <thead>\n",
       "    <tr style=\"text-align: right;\">\n",
       "      <th></th>\n",
       "      <th>Adventure</th>\n",
       "      <th>Cars</th>\n",
       "      <th>Comedy</th>\n",
       "      <th>Dementia</th>\n",
       "      <th>Demons</th>\n",
       "      <th>Drama</th>\n",
       "      <th>Ecchi</th>\n",
       "      <th>Fantasy</th>\n",
       "      <th>Game</th>\n",
       "      <th>Harem</th>\n",
       "      <th>...</th>\n",
       "      <th>1</th>\n",
       "      <th>Movie</th>\n",
       "      <th>Music</th>\n",
       "      <th>ONA</th>\n",
       "      <th>OVA</th>\n",
       "      <th>Special</th>\n",
       "      <th>TV</th>\n",
       "      <th>episodes</th>\n",
       "      <th>rating</th>\n",
       "      <th>members</th>\n",
       "    </tr>\n",
       "  </thead>\n",
       "  <tbody>\n",
       "    <tr>\n",
       "      <th>0</th>\n",
       "      <td>0</td>\n",
       "      <td>0</td>\n",
       "      <td>0</td>\n",
       "      <td>0</td>\n",
       "      <td>0</td>\n",
       "      <td>0</td>\n",
       "      <td>0</td>\n",
       "      <td>0</td>\n",
       "      <td>0</td>\n",
       "      <td>0</td>\n",
       "      <td>...</td>\n",
       "      <td>0</td>\n",
       "      <td>1</td>\n",
       "      <td>0</td>\n",
       "      <td>0</td>\n",
       "      <td>0</td>\n",
       "      <td>0</td>\n",
       "      <td>0</td>\n",
       "      <td>1</td>\n",
       "      <td>9.37</td>\n",
       "      <td>200630.0</td>\n",
       "    </tr>\n",
       "    <tr>\n",
       "      <th>1</th>\n",
       "      <td>1</td>\n",
       "      <td>0</td>\n",
       "      <td>0</td>\n",
       "      <td>0</td>\n",
       "      <td>0</td>\n",
       "      <td>1</td>\n",
       "      <td>0</td>\n",
       "      <td>1</td>\n",
       "      <td>0</td>\n",
       "      <td>0</td>\n",
       "      <td>...</td>\n",
       "      <td>0</td>\n",
       "      <td>0</td>\n",
       "      <td>0</td>\n",
       "      <td>0</td>\n",
       "      <td>0</td>\n",
       "      <td>0</td>\n",
       "      <td>1</td>\n",
       "      <td>64</td>\n",
       "      <td>9.26</td>\n",
       "      <td>793665.0</td>\n",
       "    </tr>\n",
       "    <tr>\n",
       "      <th>2</th>\n",
       "      <td>0</td>\n",
       "      <td>0</td>\n",
       "      <td>1</td>\n",
       "      <td>0</td>\n",
       "      <td>0</td>\n",
       "      <td>0</td>\n",
       "      <td>0</td>\n",
       "      <td>0</td>\n",
       "      <td>0</td>\n",
       "      <td>0</td>\n",
       "      <td>...</td>\n",
       "      <td>0</td>\n",
       "      <td>0</td>\n",
       "      <td>0</td>\n",
       "      <td>0</td>\n",
       "      <td>0</td>\n",
       "      <td>0</td>\n",
       "      <td>1</td>\n",
       "      <td>51</td>\n",
       "      <td>9.25</td>\n",
       "      <td>114262.0</td>\n",
       "    </tr>\n",
       "    <tr>\n",
       "      <th>3</th>\n",
       "      <td>0</td>\n",
       "      <td>0</td>\n",
       "      <td>0</td>\n",
       "      <td>0</td>\n",
       "      <td>0</td>\n",
       "      <td>0</td>\n",
       "      <td>0</td>\n",
       "      <td>0</td>\n",
       "      <td>0</td>\n",
       "      <td>0</td>\n",
       "      <td>...</td>\n",
       "      <td>0</td>\n",
       "      <td>0</td>\n",
       "      <td>0</td>\n",
       "      <td>0</td>\n",
       "      <td>0</td>\n",
       "      <td>0</td>\n",
       "      <td>1</td>\n",
       "      <td>24</td>\n",
       "      <td>9.17</td>\n",
       "      <td>673572.0</td>\n",
       "    </tr>\n",
       "    <tr>\n",
       "      <th>4</th>\n",
       "      <td>0</td>\n",
       "      <td>0</td>\n",
       "      <td>1</td>\n",
       "      <td>0</td>\n",
       "      <td>0</td>\n",
       "      <td>0</td>\n",
       "      <td>0</td>\n",
       "      <td>0</td>\n",
       "      <td>0</td>\n",
       "      <td>0</td>\n",
       "      <td>...</td>\n",
       "      <td>0</td>\n",
       "      <td>0</td>\n",
       "      <td>0</td>\n",
       "      <td>0</td>\n",
       "      <td>0</td>\n",
       "      <td>0</td>\n",
       "      <td>1</td>\n",
       "      <td>51</td>\n",
       "      <td>9.16</td>\n",
       "      <td>151266.0</td>\n",
       "    </tr>\n",
       "  </tbody>\n",
       "</table>\n",
       "<p>5 rows × 93 columns</p>\n",
       "</div>"
      ],
      "text/plain": [
       "    Adventure   Cars   Comedy   Dementia   Demons   Drama   Ecchi   Fantasy  \\\n",
       "0           0      0        0          0        0       0       0         0   \n",
       "1           1      0        0          0        0       1       0         1   \n",
       "2           0      0        1          0        0       0       0         0   \n",
       "3           0      0        0          0        0       0       0         0   \n",
       "4           0      0        1          0        0       0       0         0   \n",
       "\n",
       "    Game   Harem  ...  1  Movie  Music  ONA  OVA  Special  TV  episodes  \\\n",
       "0      0       0  ...  0      1      0    0    0        0   0         1   \n",
       "1      0       0  ...  0      0      0    0    0        0   1        64   \n",
       "2      0       0  ...  0      0      0    0    0        0   1        51   \n",
       "3      0       0  ...  0      0      0    0    0        0   1        24   \n",
       "4      0       0  ...  0      0      0    0    0        0   1        51   \n",
       "\n",
       "   rating   members  \n",
       "0    9.37  200630.0  \n",
       "1    9.26  793665.0  \n",
       "2    9.25  114262.0  \n",
       "3    9.17  673572.0  \n",
       "4    9.16  151266.0  \n",
       "\n",
       "[5 rows x 93 columns]"
      ]
     },
     "execution_count": 25,
     "metadata": {},
     "output_type": "execute_result"
    }
   ],
   "source": [
    "anime_data.head()"
   ]
  },
  {
   "cell_type": "code",
   "execution_count": 26,
   "metadata": {
    "colab": {
     "base_uri": "https://localhost:8080/"
    },
    "id": "K4Moh-vUF1u_",
    "outputId": "228fb206-40dc-4e9c-94d2-a45abc433e46"
   },
   "outputs": [
    {
     "data": {
      "text/plain": [
       "array([[0.00000000e+00, 0.00000000e+00, 0.00000000e+00, ...,\n",
       "        5.50055006e-04, 9.37000000e-01, 1.97876158e-01],\n",
       "       [1.00000000e+00, 0.00000000e+00, 0.00000000e+00, ...,\n",
       "        3.52035204e-02, 9.26000000e-01, 7.82771174e-01],\n",
       "       [0.00000000e+00, 0.00000000e+00, 1.00000000e+00, ...,\n",
       "        2.80528053e-02, 9.25000000e-01, 1.12693643e-01],\n",
       "       ...,\n",
       "       [1.00000000e+00, 0.00000000e+00, 0.00000000e+00, ...,\n",
       "        5.50055006e-04, 0.00000000e+00, 1.71710308e-03],\n",
       "       [0.00000000e+00, 0.00000000e+00, 0.00000000e+00, ...,\n",
       "        5.50055006e-04, 6.00000000e-01, 3.15607688e-05],\n",
       "       [0.00000000e+00, 0.00000000e+00, 0.00000000e+00, ...,\n",
       "        5.50055006e-04, 5.15000000e-01, 4.69466436e-04]])"
      ]
     },
     "execution_count": 26,
     "metadata": {},
     "output_type": "execute_result"
    }
   ],
   "source": [
    "scaler = MinMaxScaler(feature_range=(0,1))\n",
    "\n",
    "anime_data_scaled = scaler.fit_transform(anime_data)\n",
    "np.round(anime_data_scaled , decimals = 2)\n",
    "anime_data_scaled"
   ]
  },
  {
   "cell_type": "code",
   "execution_count": 27,
   "metadata": {
    "colab": {
     "base_uri": "https://localhost:8080/"
    },
    "id": "4DghhTEsJKhf",
    "outputId": "8527f5ed-dadb-4965-c6fd-35a47d7f0718"
   },
   "outputs": [
    {
     "data": {
      "text/plain": [
       "(14472, 93)"
      ]
     },
     "execution_count": 27,
     "metadata": {},
     "output_type": "execute_result"
    }
   ],
   "source": [
    "anime_data_scaled.shape"
   ]
  },
  {
   "cell_type": "markdown",
   "metadata": {
    "id": "UwtqeoPWcRen"
   },
   "source": [
    "## Using Nearest Neighbours unsupervised learning with ball_tree algorithm and 6 nearest neighbors\n",
    "\n",
    "Here the nearest neighbours will represent the animes that are similar to an anime"
   ]
  },
  {
   "cell_type": "markdown",
   "metadata": {
    "id": "jF8bJuBkc6_N"
   },
   "source": [
    "### Fitting Data"
   ]
  },
  {
   "cell_type": "code",
   "execution_count": 28,
   "metadata": {
    "id": "PALou5sQKT0h"
   },
   "outputs": [],
   "source": [
    "nn_bt = NearestNeighbors(n_neighbors=6 , algorithm='ball_tree').fit(anime_data_scaled)"
   ]
  },
  {
   "cell_type": "markdown",
   "metadata": {
    "id": "1g3IUsq6c8f8"
   },
   "source": [
    "### Taking Distances and Indices of the 5 closest Animes and itself (5+1 = 6) from it"
   ]
  },
  {
   "cell_type": "code",
   "execution_count": 29,
   "metadata": {
    "id": "paAkXEacNE4m"
   },
   "outputs": [],
   "source": [
    "distances , indices = nn_bt.kneighbors(anime_data_scaled)"
   ]
  },
  {
   "cell_type": "code",
   "execution_count": 30,
   "metadata": {
    "colab": {
     "base_uri": "https://localhost:8080/"
    },
    "id": "JfSpz3d4PqwI",
    "outputId": "c19de547-7420-46e6-90d1-8720cfa05188"
   },
   "outputs": [
    {
     "name": "stdout",
     "output_type": "stream",
     "text": [
      "Distances shape : (14472, 6) \n",
      "Indices Shape: (14472, 6) \n",
      "Distances data overview : [0.         1.01506549 1.03095542 1.0310255  1.41625771 1.43204444] \n",
      "Indices data overview : [   0  208 1494 1959   60 2103]\n"
     ]
    }
   ],
   "source": [
    "print(\"Distances shape : {} \\nIndices Shape: {} \\nDistances data overview : {} \\nIndices data overview : {}\".format(distances.shape , indices.shape , distances[0], indices[0]))"
   ]
  },
  {
   "cell_type": "markdown",
   "metadata": {
    "id": "KI2WcGjDdIIz"
   },
   "source": [
    "### Creating a function that would return the index of the anime when provided its name"
   ]
  },
  {
   "cell_type": "code",
   "execution_count": 31,
   "metadata": {
    "colab": {
     "base_uri": "https://localhost:8080/"
    },
    "id": "1uGwkxF3SLfT",
    "outputId": "32c4f52d-098a-4d1c-8b9c-404ee1ea494c"
   },
   "outputs": [
    {
     "data": {
      "text/plain": [
       "3"
      ]
     },
     "execution_count": 31,
     "metadata": {},
     "output_type": "execute_result"
    }
   ],
   "source": [
    "def get_index(name):\n",
    "  try:\n",
    "    index = anime_df[anime_df['name'] == name].index.tolist()[0]\n",
    "  except:\n",
    "    return \"Could not find the Anime\"\n",
    "  return index\n",
    "\n",
    "get_index('Steins;Gate')"
   ]
  },
  {
   "cell_type": "markdown",
   "metadata": {
    "id": "7Eqmvw8IdSrJ"
   },
   "source": [
    "### Creating a function that would return the name of the anime when provided its index"
   ]
  },
  {
   "cell_type": "code",
   "execution_count": 32,
   "metadata": {
    "colab": {
     "base_uri": "https://localhost:8080/",
     "height": 35
    },
    "id": "KKYg0y3VUizJ",
    "outputId": "d3f8221c-919a-4b8b-c3e9-528b2154dda5"
   },
   "outputs": [
    {
     "data": {
      "text/plain": [
       "'Gintama°'"
      ]
     },
     "execution_count": 32,
     "metadata": {},
     "output_type": "execute_result"
    }
   ],
   "source": [
    "def get_name(id):\n",
    "  try:\n",
    "    name = anime_df[anime_df.index == id]['name'].tolist()[0]\n",
    "  except:\n",
    "    return \"Could not find the Anime\"\n",
    "  return name\n",
    "\n",
    "get_name(2)"
   ]
  },
  {
   "cell_type": "markdown",
   "metadata": {
    "id": "NBTg2Z_hdVIl"
   },
   "source": [
    "## Creating a function that prints all the relevant data about the anime"
   ]
  },
  {
   "cell_type": "code",
   "execution_count": 33,
   "metadata": {
    "colab": {
     "base_uri": "https://localhost:8080/"
    },
    "id": "U1Fyqj7cVnFT",
    "outputId": "23bfdc97-70ce-43d8-9e50-604188ec77e0"
   },
   "outputs": [
    {
     "name": "stdout",
     "output_type": "stream",
     "text": [
      "Name : Steins;Gate\n",
      "Rating : 9.17\n",
      "Number of Episodes : 24\n",
      "Genre : Sci-Fi, Thriller\n",
      "Type : TV\n",
      "Number of Members :  673572.0\n"
     ]
    }
   ],
   "source": [
    "def get_info(id):\n",
    "  print(\"Name :\" , anime_df[anime_df.index == id]['name'].tolist()[0])\n",
    "  print(\"Rating :\" , anime_df[anime_df.index == id]['rating'].tolist()[0])\n",
    "  print(\"Number of Episodes :\" , anime_df[anime_df.index == id]['episodes'].tolist()[0])\n",
    "  print(\"Genre :\" , anime_df[anime_df.index == id]['genre'].tolist()[0])\n",
    "  print(\"Type :\" , anime_df[anime_df.index == id]['type'].tolist()[0])\n",
    "  print(\"Number of Members : \" , anime_df[anime_df.index == id]['members'].tolist()[0])\n",
    "\n",
    "get_info(3)"
   ]
  },
  {
   "cell_type": "markdown",
   "metadata": {
    "id": "Lo93vnoPda6f"
   },
   "source": [
    "## Creating a function that will recommend the user anime based on an anime the user likes"
   ]
  },
  {
   "cell_type": "code",
   "execution_count": 34,
   "metadata": {
    "colab": {
     "base_uri": "https://localhost:8080/"
    },
    "id": "AMlOX22pSq8Z",
    "outputId": "8775db85-a6d1-4892-a4d8-8bd1982277c0"
   },
   "outputs": [
    {
     "name": "stdout",
     "output_type": "stream",
     "text": [
      "Here are some of the Animes you would like to watch :\n",
      "------------------------------------------------------------------\n",
      "Name : Shingeki no Kyojin Season 2\n",
      "Rating : 6.46\n",
      "Number of Episodes : 1.0\n",
      "Genre : Action, Drama, Fantasy, Shounen, Super Power\n",
      "Type : TV\n",
      "Number of Members :  170054.0\n",
      "------------------------------------------------------------------\n",
      "Name : One Piece\n",
      "Rating : 8.58\n",
      "Number of Episodes : 1.0\n",
      "Genre : Action, Adventure, Comedy, Drama, Fantasy, Shounen, Super Power\n",
      "Type : TV\n",
      "Number of Members :  504862.0\n",
      "------------------------------------------------------------------\n",
      "Name : Shingeki no Kyojin OVA\n",
      "Rating : 7.88\n",
      "Number of Episodes : 3\n",
      "Genre : Action, Drama, Fantasy, Shounen, Super Power\n",
      "Type : OVA\n",
      "Number of Members :  121063.0\n",
      "------------------------------------------------------------------\n",
      "Name : Utawarerumono: Itsuwari no Kamen\n",
      "Rating : 7.35\n",
      "Number of Episodes : 25\n",
      "Genre : Action, Drama, Fantasy\n",
      "Type : TV\n",
      "Number of Members :  55851.0\n",
      "------------------------------------------------------------------\n",
      "Name : Big Order (TV)\n",
      "Rating : 5.7\n",
      "Number of Episodes : 10\n",
      "Genre : Action, Shounen, Super Power\n",
      "Type : TV\n",
      "Number of Members :  84079.0\n"
     ]
    }
   ],
   "source": [
    "def recommend_me(name = None , id = None):\n",
    "  if name != None:\n",
    "    id = get_index(name)\n",
    "  print(\"Here are some of the Animes you would like to watch :\")\n",
    "\n",
    "  for index in indices[id][1:]:   #the first index in indices will be the anime itself so we have to print [1:] i.e. the other animes\n",
    "    print(\"------------------------------------------------------------------\")\n",
    "    get_info(index)\n",
    "\n",
    "recommend_me('Shingeki no Kyojin')"
   ]
  },
  {
   "cell_type": "markdown",
   "metadata": {
    "id": "l4JU-_dYYz9h"
   },
   "source": [
    "## Run this cell if you want Recommendations"
   ]
  },
  {
   "cell_type": "code",
   "execution_count": 35,
   "metadata": {
    "colab": {
     "base_uri": "https://localhost:8080/"
    },
    "id": "pP6p_tOiYqfj",
    "outputId": "691dbae4-055a-4528-e8a0-88de0e444b46"
   },
   "outputs": [
    {
     "name": "stdout",
     "output_type": "stream",
     "text": [
      "Enter Name of an anime you like : Hunter x Hunter (2011)\n",
      "Here are some of the Animes you would like to watch :\n",
      "------------------------------------------------------------------\n",
      "Name : Hunter x Hunter\n",
      "Rating : 8.48\n",
      "Number of Episodes : 62\n",
      "Genre : Action, Adventure, Shounen, Super Power\n",
      "Type : TV\n",
      "Number of Members :  166255.0\n",
      "------------------------------------------------------------------\n",
      "Name : Nano Invaders\n",
      "Rating : 7.08\n",
      "Number of Episodes : 52\n",
      "Genre : Action, Adventure, Shounen, Super Power\n",
      "Type : TV\n",
      "Number of Members :  519.0\n",
      "------------------------------------------------------------------\n",
      "Name : Boruto: Naruto Next Generations\n",
      "Rating : 7.03\n",
      "Number of Episodes : 0\n",
      "Genre : Action, Adventure, Martial Arts, Shounen, Super Power\n",
      "Type : TV\n",
      "Number of Members :  213675.0\n",
      "------------------------------------------------------------------\n",
      "Name : Rekka no Honoo\n",
      "Rating : 7.44\n",
      "Number of Episodes : 42\n",
      "Genre : Action, Adventure, Martial Arts, Shounen, Super Power\n",
      "Type : TV\n",
      "Number of Members :  35258.0\n",
      "------------------------------------------------------------------\n",
      "Name : Allison to Lillia\n",
      "Rating : 7.41\n",
      "Number of Episodes : 26\n",
      "Genre : Action, Adventure, Shounen\n",
      "Type : TV\n",
      "Number of Members :  27571.0\n"
     ]
    }
   ],
   "source": [
    "anime_name = input(\"Enter Name of an anime you like : \")\n",
    "\n",
    "try:\n",
    "  anime_df[anime_df['name'] == anime_name]\n",
    "except:\n",
    "  print(\"NO SUCH ANIME FOUND\")\n",
    "\n",
    "recommend_me(anime_name)"
   ]
  },
  {
   "cell_type": "markdown",
   "metadata": {
    "id": "betl2Yv7XUEI"
   },
   "source": [
    "## Trying the recommendation system on Dragon Ball Z (shounen , action)"
   ]
  },
  {
   "cell_type": "code",
   "execution_count": 36,
   "metadata": {
    "colab": {
     "base_uri": "https://localhost:8080/"
    },
    "id": "orcGtArTU_Db",
    "outputId": "ee2f1569-65f7-4278-ccdc-561dcb759a8e"
   },
   "outputs": [
    {
     "name": "stdout",
     "output_type": "stream",
     "text": [
      "Here are some of the Animes you would like to watch :\n",
      "------------------------------------------------------------------\n",
      "Name : Dragon Ball Kai\n",
      "Rating : 7.95\n",
      "Number of Episodes : 97\n",
      "Genre : Action, Adventure, Comedy, Fantasy, Martial Arts, Shounen, Super Power\n",
      "Type : TV\n",
      "Number of Members :  116832.0\n",
      "------------------------------------------------------------------\n",
      "Name : Dragon Ball Super\n",
      "Rating : 7.4\n",
      "Number of Episodes : 1.0\n",
      "Genre : Action, Adventure, Comedy, Fantasy, Martial Arts, Shounen, Super Power\n",
      "Type : TV\n",
      "Number of Members :  111443.0\n",
      "------------------------------------------------------------------\n",
      "Name : Dragon Ball Kai (2014)\n",
      "Rating : 8.01\n",
      "Number of Episodes : 61\n",
      "Genre : Action, Adventure, Comedy, Fantasy, Martial Arts, Shounen, Super Power\n",
      "Type : TV\n",
      "Number of Members :  42666.0\n",
      "------------------------------------------------------------------\n",
      "Name : One Piece\n",
      "Rating : 8.58\n",
      "Number of Episodes : 1.0\n",
      "Genre : Action, Adventure, Comedy, Drama, Fantasy, Shounen, Super Power\n",
      "Type : TV\n",
      "Number of Members :  504862.0\n",
      "------------------------------------------------------------------\n",
      "Name : Naruto: Shippuuden\n",
      "Rating : 7.94\n",
      "Number of Episodes : 1.0\n",
      "Genre : Action, Comedy, Martial Arts, Shounen, Super Power\n",
      "Type : TV\n",
      "Number of Members :  533578.0\n"
     ]
    }
   ],
   "source": [
    "recommend_me('Dragon Ball Z')"
   ]
  },
  {
   "cell_type": "markdown",
   "metadata": {
    "id": "HbbinMIUYFRW"
   },
   "source": [
    "## Trying recommendation system on Haikyuu!! (Sports)"
   ]
  },
  {
   "cell_type": "code",
   "execution_count": 37,
   "metadata": {
    "colab": {
     "base_uri": "https://localhost:8080/"
    },
    "id": "e-ZQpAs6XhQp",
    "outputId": "a4c0a5d9-200f-412e-b50f-40f8c07c1cbf"
   },
   "outputs": [
    {
     "name": "stdout",
     "output_type": "stream",
     "text": [
      "Here are some of the Animes you would like to watch :\n",
      "------------------------------------------------------------------\n",
      "Name : Haikyuu!! Second Season\n",
      "Rating : 8.93\n",
      "Number of Episodes : 25\n",
      "Genre : Comedy, Drama, School, Shounen, Sports\n",
      "Type : TV\n",
      "Number of Members :  179342.0\n",
      "------------------------------------------------------------------\n",
      "Name : Haikyuu!!: Karasuno Koukou VS Shiratorizawa Gakuen Koukou\n",
      "Rating : 9.15\n",
      "Number of Episodes : 10\n",
      "Genre : Comedy, Drama, School, Shounen, Sports\n",
      "Type : TV\n",
      "Number of Members :  93351.0\n",
      "------------------------------------------------------------------\n",
      "Name : Slam Dunk\n",
      "Rating : 8.56\n",
      "Number of Episodes : 101\n",
      "Genre : Comedy, Drama, School, Shounen, Sports\n",
      "Type : TV\n",
      "Number of Members :  82570.0\n",
      "------------------------------------------------------------------\n",
      "Name : Kuroko no Basket 2nd Season\n",
      "Rating : 8.58\n",
      "Number of Episodes : 25\n",
      "Genre : Comedy, School, Shounen, Sports\n",
      "Type : TV\n",
      "Number of Members :  243325.0\n",
      "------------------------------------------------------------------\n",
      "Name : Kuroko no Basket\n",
      "Rating : 8.46\n",
      "Number of Episodes : 25\n",
      "Genre : Comedy, School, Shounen, Sports\n",
      "Type : TV\n",
      "Number of Members :  338315.0\n"
     ]
    }
   ],
   "source": [
    "recommend_me('Haikyuu!!')"
   ]
  },
  {
   "cell_type": "markdown",
   "metadata": {
    "id": "FXWVAtkWbowR"
   },
   "source": [
    "## Trying recommendation system on Hentai genre"
   ]
  },
  {
   "cell_type": "code",
   "execution_count": 38,
   "metadata": {
    "colab": {
     "base_uri": "https://localhost:8080/"
    },
    "id": "b_T4cmFNYR6o",
    "outputId": "81d02ef6-b7ea-48f3-ebf1-5358e7dfeff3"
   },
   "outputs": [
    {
     "name": "stdout",
     "output_type": "stream",
     "text": [
      "Here are some of the Animes you would like to watch :\n",
      "------------------------------------------------------------------\n",
      "Name : Brandish\n",
      "Rating : 6.89\n",
      "Number of Episodes : 2\n",
      "Genre : Hentai, Supernatural\n",
      "Type : OVA\n",
      "Number of Members :  6742.0\n",
      "------------------------------------------------------------------\n",
      "Name : Bible Black Gaiden\n",
      "Rating : 6.89\n",
      "Number of Episodes : 2\n",
      "Genre : Hentai, Supernatural\n",
      "Type : OVA\n",
      "Number of Members :  14478.0\n",
      "------------------------------------------------------------------\n",
      "Name : Aku no Onna Kanbu: Full Moon Night\n",
      "Rating : 6.85\n",
      "Number of Episodes : 1\n",
      "Genre : Hentai, Supernatural\n",
      "Type : OVA\n",
      "Number of Members :  3613.0\n",
      "------------------------------------------------------------------\n",
      "Name : Megachu!\n",
      "Rating : 6.61\n",
      "Number of Episodes : 3\n",
      "Genre : Hentai, Supernatural\n",
      "Type : OVA\n",
      "Number of Members :  3991.0\n",
      "------------------------------------------------------------------\n",
      "Name : Hachishaku Hachiwa Keraku Meguri: Igyou Kaikitan The Animation\n",
      "Rating : 6.59\n",
      "Number of Episodes : 1.0\n",
      "Genre : Hentai, Supernatural\n",
      "Type : OVA\n",
      "Number of Members :  481.0\n"
     ]
    }
   ],
   "source": [
    "recommend_me('Itadaki! Seieki')"
   ]
  }
 ],
 "metadata": {
  "colab": {
   "collapsed_sections": [],
   "name": "anime_recommendation.ipynb",
   "provenance": []
  },
  "kernelspec": {
   "display_name": "Python 3",
   "language": "python",
   "name": "python3"
  },
  "language_info": {
   "codemirror_mode": {
    "name": "ipython",
    "version": 3
   },
   "file_extension": ".py",
   "mimetype": "text/x-python",
   "name": "python",
   "nbconvert_exporter": "python",
   "pygments_lexer": "ipython3",
   "version": "3.8.5"
  }
 },
 "nbformat": 4,
 "nbformat_minor": 1
}
