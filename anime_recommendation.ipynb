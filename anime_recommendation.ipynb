{
  "nbformat": 4,
  "nbformat_minor": 0,
  "metadata": {
    "kernelspec": {
      "display_name": "Python 3",
      "language": "python",
      "name": "python3"
    },
    "language_info": {
      "codemirror_mode": {
        "name": "ipython",
        "version": 3
      },
      "file_extension": ".py",
      "mimetype": "text/x-python",
      "name": "python",
      "nbconvert_exporter": "python",
      "pygments_lexer": "ipython3",
      "version": "3.8.5-final"
    },
    "colab": {
      "name": "anime_recommendation.ipynb",
      "provenance": [],
      "collapsed_sections": []
    }
  },
  "cells": [
    {
      "cell_type": "markdown",
      "metadata": {
        "id": "plx25OnQ4vUe"
      },
      "source": [
        "## Importing Required Modules"
      ]
    },
    {
      "cell_type": "code",
      "metadata": {
        "id": "KS0WygoF4vUf",
        "outputId": "8957a18e-b0a0-4c92-fe41-d4c86b3176d2",
        "colab": {
          "base_uri": "https://localhost:8080/"
        }
      },
      "source": [
        "import numpy as np\n",
        "import pandas as pd\n",
        "import matplotlib.pyplot as plt     \n",
        "import seaborn as sns\n",
        "from google.colab import files\n",
        "from sklearn.preprocessing import MinMaxScaler\n",
        "from sklearn.neighbors import NearestNeighbors\n",
        "import tensorflow as tf\n",
        "\n",
        "print(tf.__version__)"
      ],
      "execution_count": 1,
      "outputs": [
        {
          "output_type": "stream",
          "text": [
            "2.3.0\n"
          ],
          "name": "stdout"
        }
      ]
    },
    {
      "cell_type": "markdown",
      "metadata": {
        "id": "oT5MD5Y54vUi"
      },
      "source": [
        "## Fetching the Dataset as a Pandas DataFrame"
      ]
    },
    {
      "cell_type": "code",
      "metadata": {
        "id": "hHBLXeTH4vUj",
        "outputId": "75774b33-c1aa-4685-8f88-54d7c924ec6b",
        "colab": {
          "base_uri": "https://localhost:8080/",
          "height": 195
        }
      },
      "source": [
        "anime_df = pd.read_csv('anime.csv')\n",
        "anime_df.head()"
      ],
      "execution_count": 2,
      "outputs": [
        {
          "output_type": "execute_result",
          "data": {
            "text/html": [
              "<div>\n",
              "<style scoped>\n",
              "    .dataframe tbody tr th:only-of-type {\n",
              "        vertical-align: middle;\n",
              "    }\n",
              "\n",
              "    .dataframe tbody tr th {\n",
              "        vertical-align: top;\n",
              "    }\n",
              "\n",
              "    .dataframe thead th {\n",
              "        text-align: right;\n",
              "    }\n",
              "</style>\n",
              "<table border=\"1\" class=\"dataframe\">\n",
              "  <thead>\n",
              "    <tr style=\"text-align: right;\">\n",
              "      <th></th>\n",
              "      <th>anime_id</th>\n",
              "      <th>name</th>\n",
              "      <th>genre</th>\n",
              "      <th>type</th>\n",
              "      <th>episodes</th>\n",
              "      <th>rating</th>\n",
              "      <th>members</th>\n",
              "    </tr>\n",
              "  </thead>\n",
              "  <tbody>\n",
              "    <tr>\n",
              "      <th>0</th>\n",
              "      <td>32281</td>\n",
              "      <td>Kimi no Na wa.</td>\n",
              "      <td>Drama, Romance, School, Supernatural</td>\n",
              "      <td>Movie</td>\n",
              "      <td>1</td>\n",
              "      <td>9.37</td>\n",
              "      <td>200630</td>\n",
              "    </tr>\n",
              "    <tr>\n",
              "      <th>1</th>\n",
              "      <td>5114</td>\n",
              "      <td>Fullmetal Alchemist: Brotherhood</td>\n",
              "      <td>Action, Adventure, Drama, Fantasy, Magic, Mili...</td>\n",
              "      <td>TV</td>\n",
              "      <td>64</td>\n",
              "      <td>9.26</td>\n",
              "      <td>793665</td>\n",
              "    </tr>\n",
              "    <tr>\n",
              "      <th>2</th>\n",
              "      <td>28977</td>\n",
              "      <td>Gintama°</td>\n",
              "      <td>Action, Comedy, Historical, Parody, Samurai, S...</td>\n",
              "      <td>TV</td>\n",
              "      <td>51</td>\n",
              "      <td>9.25</td>\n",
              "      <td>114262</td>\n",
              "    </tr>\n",
              "    <tr>\n",
              "      <th>3</th>\n",
              "      <td>9253</td>\n",
              "      <td>Steins;Gate</td>\n",
              "      <td>Sci-Fi, Thriller</td>\n",
              "      <td>TV</td>\n",
              "      <td>24</td>\n",
              "      <td>9.17</td>\n",
              "      <td>673572</td>\n",
              "    </tr>\n",
              "    <tr>\n",
              "      <th>4</th>\n",
              "      <td>9969</td>\n",
              "      <td>Gintama&amp;#039;</td>\n",
              "      <td>Action, Comedy, Historical, Parody, Samurai, S...</td>\n",
              "      <td>TV</td>\n",
              "      <td>51</td>\n",
              "      <td>9.16</td>\n",
              "      <td>151266</td>\n",
              "    </tr>\n",
              "  </tbody>\n",
              "</table>\n",
              "</div>"
            ],
            "text/plain": [
              "   anime_id                              name  ... rating members\n",
              "0     32281                    Kimi no Na wa.  ...   9.37  200630\n",
              "1      5114  Fullmetal Alchemist: Brotherhood  ...   9.26  793665\n",
              "2     28977                          Gintama°  ...   9.25  114262\n",
              "3      9253                       Steins;Gate  ...   9.17  673572\n",
              "4      9969                     Gintama&#039;  ...   9.16  151266\n",
              "\n",
              "[5 rows x 7 columns]"
            ]
          },
          "metadata": {
            "tags": []
          },
          "execution_count": 2
        }
      ]
    },
    {
      "cell_type": "markdown",
      "metadata": {
        "id": "klLiS8c845wo"
      },
      "source": [
        "Analysing all the types in dataset , replacing the nan type is required"
      ]
    },
    {
      "cell_type": "code",
      "metadata": {
        "id": "IiM3m1Qu46C2",
        "outputId": "adfd47f1-51ee-4776-94c8-bba9d89f6284",
        "colab": {
          "base_uri": "https://localhost:8080/"
        }
      },
      "source": [
        "types = anime_df['type'].unique().tolist()\n",
        "print(\"Number of Types : {} \\nTypes: \\n\".format(len(types)) , types)"
      ],
      "execution_count": 3,
      "outputs": [
        {
          "output_type": "stream",
          "text": [
            "Number of Types : 7 \n",
            "Types: \n",
            " ['Movie', 'TV', 'OVA', 'Special', 'Music', 'ONA', nan]\n"
          ],
          "name": "stdout"
        }
      ]
    },
    {
      "cell_type": "markdown",
      "metadata": {
        "id": "CJ_Z0ut74vUm"
      },
      "source": [
        "## Tuning the Dataset\n",
        "First , We will fill all the empty/'Unknown data' data cells with data individually.\n",
        "Like for the type movie , the episodes should be 1 so I will fill all the empty episode cells of type movie with 1\n",
        "Then , for Hentai also it has mostly 1 ep so I will do the same thing for hentai as well.\n",
        "\n",
        "Getting the number of None type datacells in each column"
      ]
    },
    {
      "cell_type": "code",
      "metadata": {
        "id": "81XdEt2I4vUn",
        "outputId": "c00eb677-8e74-48ba-be77-a42e99b6fb3d",
        "colab": {
          "base_uri": "https://localhost:8080/"
        }
      },
      "source": [
        "anime_df.isnull().sum()"
      ],
      "execution_count": 4,
      "outputs": [
        {
          "output_type": "execute_result",
          "data": {
            "text/plain": [
              "anime_id      0\n",
              "name          0\n",
              "genre        62\n",
              "type         25\n",
              "episodes      0\n",
              "rating      230\n",
              "members       0\n",
              "dtype: int64"
            ]
          },
          "metadata": {
            "tags": []
          },
          "execution_count": 4
        }
      ]
    },
    {
      "cell_type": "code",
      "metadata": {
        "id": "0H5N36Su4vUq"
      },
      "source": [
        "anime_df.loc[(anime_df['genre'] == 'Hentai') & (anime_df['episodes'] == 'Unknown')] = 1"
      ],
      "execution_count": 5,
      "outputs": []
    },
    {
      "cell_type": "code",
      "metadata": {
        "id": "SBGpGClc7ajS"
      },
      "source": [
        "anime_df.loc[(anime_df['genre'] == 'Movie') & (anime_df['episodes'] == 'Unknown')] = 1"
      ],
      "execution_count": 6,
      "outputs": []
    },
    {
      "cell_type": "markdown",
      "metadata": {
        "id": "vkymjqsG85Aj"
      },
      "source": [
        "As you can see below songs also have only one episode so we will replace the empty datacells in episodes column of Music type by 1"
      ]
    },
    {
      "cell_type": "code",
      "metadata": {
        "id": "3yncjtJR8um_",
        "outputId": "c2bb7404-4692-4f45-a449-32699423e87a",
        "colab": {
          "base_uri": "https://localhost:8080/",
          "height": 136
        }
      },
      "source": [
        "anime_df[anime_df['type'] == 'Music'].head(3)"
      ],
      "execution_count": 7,
      "outputs": [
        {
          "output_type": "execute_result",
          "data": {
            "text/html": [
              "<div>\n",
              "<style scoped>\n",
              "    .dataframe tbody tr th:only-of-type {\n",
              "        vertical-align: middle;\n",
              "    }\n",
              "\n",
              "    .dataframe tbody tr th {\n",
              "        vertical-align: top;\n",
              "    }\n",
              "\n",
              "    .dataframe thead th {\n",
              "        text-align: right;\n",
              "    }\n",
              "</style>\n",
              "<table border=\"1\" class=\"dataframe\">\n",
              "  <thead>\n",
              "    <tr style=\"text-align: right;\">\n",
              "      <th></th>\n",
              "      <th>anime_id</th>\n",
              "      <th>name</th>\n",
              "      <th>genre</th>\n",
              "      <th>type</th>\n",
              "      <th>episodes</th>\n",
              "      <th>rating</th>\n",
              "      <th>members</th>\n",
              "    </tr>\n",
              "  </thead>\n",
              "  <tbody>\n",
              "    <tr>\n",
              "      <th>169</th>\n",
              "      <td>34240</td>\n",
              "      <td>Shelter</td>\n",
              "      <td>Music, Sci-Fi</td>\n",
              "      <td>Music</td>\n",
              "      <td>1</td>\n",
              "      <td>8.38</td>\n",
              "      <td>71136</td>\n",
              "    </tr>\n",
              "    <tr>\n",
              "      <th>336</th>\n",
              "      <td>731</td>\n",
              "      <td>Interstella5555: The 5tory of The 5ecret 5tar ...</td>\n",
              "      <td>Adventure, Drama, Music, Sci-Fi</td>\n",
              "      <td>Music</td>\n",
              "      <td>1</td>\n",
              "      <td>8.17</td>\n",
              "      <td>31464</td>\n",
              "    </tr>\n",
              "    <tr>\n",
              "      <th>533</th>\n",
              "      <td>17949</td>\n",
              "      <td>The Everlasting Guilty Crown</td>\n",
              "      <td>Music</td>\n",
              "      <td>Music</td>\n",
              "      <td>1</td>\n",
              "      <td>8.00</td>\n",
              "      <td>11663</td>\n",
              "    </tr>\n",
              "  </tbody>\n",
              "</table>\n",
              "</div>"
            ],
            "text/plain": [
              "     anime_id  ... members\n",
              "169     34240  ...   71136\n",
              "336       731  ...   31464\n",
              "533     17949  ...   11663\n",
              "\n",
              "[3 rows x 7 columns]"
            ]
          },
          "metadata": {
            "tags": []
          },
          "execution_count": 7
        }
      ]
    },
    {
      "cell_type": "code",
      "metadata": {
        "id": "IkhrYaN68lZC"
      },
      "source": [
        "anime_df.loc[(anime_df['type'] == 'Music') & (anime_df['episodes'] == 'Unknown')] = 1"
      ],
      "execution_count": 8,
      "outputs": []
    },
    {
      "cell_type": "markdown",
      "metadata": {
        "id": "6S9z8Ev49o6T"
      },
      "source": [
        "#### Replacing the remaining 'Unknown' data cells in episodes by nan type"
      ]
    },
    {
      "cell_type": "code",
      "metadata": {
        "id": "TIQtDqBo9I1h"
      },
      "source": [
        "anime_df['episodes'] = anime_df['episodes'].map(lambda x: np.nan if x == 'Unknown' else x)"
      ],
      "execution_count": 9,
      "outputs": []
    },
    {
      "cell_type": "markdown",
      "metadata": {
        "id": "ZmG1KhHt-Gpb"
      },
      "source": [
        "Filling all the nan types by the episodes column's median"
      ]
    },
    {
      "cell_type": "code",
      "metadata": {
        "id": "ah4_TeoI-M-k"
      },
      "source": [
        "anime_df['episodes'].fillna(anime_df['episodes'].median() , inplace = True)"
      ],
      "execution_count": 10,
      "outputs": []
    },
    {
      "cell_type": "code",
      "metadata": {
        "id": "_gu0e_OG9V8Z",
        "outputId": "46cf31ad-6228-4538-e04c-9ad1d0f5428b",
        "colab": {
          "base_uri": "https://localhost:8080/"
        }
      },
      "source": [
        "anime_df['episodes'].isnull().sum()"
      ],
      "execution_count": 11,
      "outputs": [
        {
          "output_type": "execute_result",
          "data": {
            "text/plain": [
              "0"
            ]
          },
          "metadata": {
            "tags": []
          },
          "execution_count": 11
        }
      ]
    },
    {
      "cell_type": "code",
      "metadata": {
        "id": "h6LASxQ8-dm3",
        "outputId": "5f3cd9f9-d5c1-4c56-fe87-396d6cc65b1f",
        "colab": {
          "base_uri": "https://localhost:8080/"
        }
      },
      "source": [
        "anime_df.info()"
      ],
      "execution_count": 12,
      "outputs": [
        {
          "output_type": "stream",
          "text": [
            "<class 'pandas.core.frame.DataFrame'>\n",
            "RangeIndex: 12294 entries, 0 to 12293\n",
            "Data columns (total 7 columns):\n",
            " #   Column    Non-Null Count  Dtype  \n",
            "---  ------    --------------  -----  \n",
            " 0   anime_id  12294 non-null  int64  \n",
            " 1   name      12294 non-null  object \n",
            " 2   genre     12232 non-null  object \n",
            " 3   type      12269 non-null  object \n",
            " 4   episodes  12294 non-null  object \n",
            " 5   rating    12069 non-null  float64\n",
            " 6   members   12294 non-null  int64  \n",
            "dtypes: float64(1), int64(2), object(4)\n",
            "memory usage: 672.5+ KB\n"
          ],
          "name": "stdout"
        }
      ]
    },
    {
      "cell_type": "markdown",
      "metadata": {
        "id": "tGfGZVMA_5tL"
      },
      "source": [
        "Changing data types of columns"
      ]
    },
    {
      "cell_type": "code",
      "metadata": {
        "id": "fU9FH3l6Zx_x",
        "outputId": "8ba08fd7-f7d4-44a5-f3fb-373d50414707",
        "colab": {
          "base_uri": "https://localhost:8080/"
        }
      },
      "source": [
        "anime_df['name'] == anime_df['name'].replace(['Itadaki! Seieki♥'] , 'Itadaki! Seieki')"
      ],
      "execution_count": 13,
      "outputs": [
        {
          "output_type": "execute_result",
          "data": {
            "text/plain": [
              "0        True\n",
              "1        True\n",
              "2        True\n",
              "3        True\n",
              "4        True\n",
              "         ... \n",
              "12289    True\n",
              "12290    True\n",
              "12291    True\n",
              "12292    True\n",
              "12293    True\n",
              "Name: name, Length: 12294, dtype: bool"
            ]
          },
          "metadata": {
            "tags": []
          },
          "execution_count": 13
        }
      ]
    },
    {
      "cell_type": "code",
      "metadata": {
        "id": "-RIoM2pP-9gR"
      },
      "source": [
        "anime_df['members'] = anime_df['members'].astype(float)"
      ],
      "execution_count": 14,
      "outputs": []
    },
    {
      "cell_type": "code",
      "metadata": {
        "id": "F9DCBva5OKuS"
      },
      "source": [
        "anime_df['rating'].fillna(anime_df['rating'].median() , inplace = True)"
      ],
      "execution_count": 15,
      "outputs": []
    },
    {
      "cell_type": "code",
      "metadata": {
        "id": "uNLH1PJYBVlx",
        "outputId": "193e2259-07dc-47e6-cc0c-bd0772406f6d",
        "colab": {
          "base_uri": "https://localhost:8080/"
        }
      },
      "source": [
        "anime_df.info()"
      ],
      "execution_count": 16,
      "outputs": [
        {
          "output_type": "stream",
          "text": [
            "<class 'pandas.core.frame.DataFrame'>\n",
            "RangeIndex: 12294 entries, 0 to 12293\n",
            "Data columns (total 7 columns):\n",
            " #   Column    Non-Null Count  Dtype  \n",
            "---  ------    --------------  -----  \n",
            " 0   anime_id  12294 non-null  int64  \n",
            " 1   name      12294 non-null  object \n",
            " 2   genre     12232 non-null  object \n",
            " 3   type      12269 non-null  object \n",
            " 4   episodes  12294 non-null  object \n",
            " 5   rating    12294 non-null  float64\n",
            " 6   members   12294 non-null  float64\n",
            "dtypes: float64(2), int64(1), object(4)\n",
            "memory usage: 672.5+ KB\n"
          ],
          "name": "stdout"
        }
      ]
    },
    {
      "cell_type": "code",
      "metadata": {
        "id": "DecvE-hfbKCf"
      },
      "source": [
        "anime_df.replace(to_replace =\"Itadaki! Seieki♥\", \n",
        "                 value ='Itadaki! Seieki' , inplace = True) "
      ],
      "execution_count": 17,
      "outputs": []
    },
    {
      "cell_type": "markdown",
      "metadata": {
        "id": "Lo5qxqnib5MZ"
      },
      "source": [
        "## Creating another dataset with Relevant Features and one hot encoding using get_dummies on genre and type column"
      ]
    },
    {
      "cell_type": "code",
      "metadata": {
        "id": "qeurd7N_BoDW"
      },
      "source": [
        "anime_data = pd.concat([anime_df['genre'].str.get_dummies(sep = ','),\n",
        "                         pd.get_dummies(anime_df['type']),\n",
        "                         anime_df['episodes'],\n",
        "                         anime_df['rating'],\n",
        "                         anime_df['members'],\n",
        "                         ] , axis = 1)"
      ],
      "execution_count": 18,
      "outputs": []
    },
    {
      "cell_type": "markdown",
      "metadata": {
        "id": "7ZN41lU5cIkT"
      },
      "source": [
        "## How the Dataset looks after one hot encoding "
      ]
    },
    {
      "cell_type": "code",
      "metadata": {
        "id": "UkjraYyzEkn4",
        "outputId": "f4035af8-467d-4760-e118-a380590ddae9",
        "colab": {
          "base_uri": "https://localhost:8080/",
          "height": 278
        }
      },
      "source": [
        "anime_data.head()"
      ],
      "execution_count": 19,
      "outputs": [
        {
          "output_type": "execute_result",
          "data": {
            "text/html": [
              "<div>\n",
              "<style scoped>\n",
              "    .dataframe tbody tr th:only-of-type {\n",
              "        vertical-align: middle;\n",
              "    }\n",
              "\n",
              "    .dataframe tbody tr th {\n",
              "        vertical-align: top;\n",
              "    }\n",
              "\n",
              "    .dataframe thead th {\n",
              "        text-align: right;\n",
              "    }\n",
              "</style>\n",
              "<table border=\"1\" class=\"dataframe\">\n",
              "  <thead>\n",
              "    <tr style=\"text-align: right;\">\n",
              "      <th></th>\n",
              "      <th>Adventure</th>\n",
              "      <th>Cars</th>\n",
              "      <th>Comedy</th>\n",
              "      <th>Dementia</th>\n",
              "      <th>Demons</th>\n",
              "      <th>Drama</th>\n",
              "      <th>Ecchi</th>\n",
              "      <th>Fantasy</th>\n",
              "      <th>Game</th>\n",
              "      <th>Harem</th>\n",
              "      <th>Hentai</th>\n",
              "      <th>Historical</th>\n",
              "      <th>Horror</th>\n",
              "      <th>Josei</th>\n",
              "      <th>Kids</th>\n",
              "      <th>Magic</th>\n",
              "      <th>Martial Arts</th>\n",
              "      <th>Mecha</th>\n",
              "      <th>Military</th>\n",
              "      <th>Music</th>\n",
              "      <th>Mystery</th>\n",
              "      <th>Parody</th>\n",
              "      <th>Police</th>\n",
              "      <th>Psychological</th>\n",
              "      <th>Romance</th>\n",
              "      <th>Samurai</th>\n",
              "      <th>School</th>\n",
              "      <th>Sci-Fi</th>\n",
              "      <th>Seinen</th>\n",
              "      <th>Shoujo</th>\n",
              "      <th>Shoujo Ai</th>\n",
              "      <th>Shounen</th>\n",
              "      <th>Shounen Ai</th>\n",
              "      <th>Slice of Life</th>\n",
              "      <th>Space</th>\n",
              "      <th>Sports</th>\n",
              "      <th>Super Power</th>\n",
              "      <th>Supernatural</th>\n",
              "      <th>Thriller</th>\n",
              "      <th>Vampire</th>\n",
              "      <th>...</th>\n",
              "      <th>Harem</th>\n",
              "      <th>Hentai</th>\n",
              "      <th>Historical</th>\n",
              "      <th>Horror</th>\n",
              "      <th>Josei</th>\n",
              "      <th>Kids</th>\n",
              "      <th>Magic</th>\n",
              "      <th>Martial Arts</th>\n",
              "      <th>Mecha</th>\n",
              "      <th>Military</th>\n",
              "      <th>Music</th>\n",
              "      <th>Mystery</th>\n",
              "      <th>Parody</th>\n",
              "      <th>Police</th>\n",
              "      <th>Psychological</th>\n",
              "      <th>Romance</th>\n",
              "      <th>Samurai</th>\n",
              "      <th>School</th>\n",
              "      <th>Sci-Fi</th>\n",
              "      <th>Seinen</th>\n",
              "      <th>Shoujo</th>\n",
              "      <th>Shounen</th>\n",
              "      <th>Slice of Life</th>\n",
              "      <th>Space</th>\n",
              "      <th>Sports</th>\n",
              "      <th>Super Power</th>\n",
              "      <th>Supernatural</th>\n",
              "      <th>Thriller</th>\n",
              "      <th>Vampire</th>\n",
              "      <th>Yaoi</th>\n",
              "      <th>1</th>\n",
              "      <th>Movie</th>\n",
              "      <th>Music</th>\n",
              "      <th>ONA</th>\n",
              "      <th>OVA</th>\n",
              "      <th>Special</th>\n",
              "      <th>TV</th>\n",
              "      <th>episodes</th>\n",
              "      <th>rating</th>\n",
              "      <th>members</th>\n",
              "    </tr>\n",
              "  </thead>\n",
              "  <tbody>\n",
              "    <tr>\n",
              "      <th>0</th>\n",
              "      <td>0</td>\n",
              "      <td>0</td>\n",
              "      <td>0</td>\n",
              "      <td>0</td>\n",
              "      <td>0</td>\n",
              "      <td>0</td>\n",
              "      <td>0</td>\n",
              "      <td>0</td>\n",
              "      <td>0</td>\n",
              "      <td>0</td>\n",
              "      <td>0</td>\n",
              "      <td>0</td>\n",
              "      <td>0</td>\n",
              "      <td>0</td>\n",
              "      <td>0</td>\n",
              "      <td>0</td>\n",
              "      <td>0</td>\n",
              "      <td>0</td>\n",
              "      <td>0</td>\n",
              "      <td>0</td>\n",
              "      <td>0</td>\n",
              "      <td>0</td>\n",
              "      <td>0</td>\n",
              "      <td>0</td>\n",
              "      <td>1</td>\n",
              "      <td>0</td>\n",
              "      <td>1</td>\n",
              "      <td>0</td>\n",
              "      <td>0</td>\n",
              "      <td>0</td>\n",
              "      <td>0</td>\n",
              "      <td>0</td>\n",
              "      <td>0</td>\n",
              "      <td>0</td>\n",
              "      <td>0</td>\n",
              "      <td>0</td>\n",
              "      <td>0</td>\n",
              "      <td>1</td>\n",
              "      <td>0</td>\n",
              "      <td>0</td>\n",
              "      <td>...</td>\n",
              "      <td>0</td>\n",
              "      <td>0</td>\n",
              "      <td>0</td>\n",
              "      <td>0</td>\n",
              "      <td>0</td>\n",
              "      <td>0</td>\n",
              "      <td>0</td>\n",
              "      <td>0</td>\n",
              "      <td>0</td>\n",
              "      <td>0</td>\n",
              "      <td>0</td>\n",
              "      <td>0</td>\n",
              "      <td>0</td>\n",
              "      <td>0</td>\n",
              "      <td>0</td>\n",
              "      <td>0</td>\n",
              "      <td>0</td>\n",
              "      <td>0</td>\n",
              "      <td>0</td>\n",
              "      <td>0</td>\n",
              "      <td>0</td>\n",
              "      <td>0</td>\n",
              "      <td>0</td>\n",
              "      <td>0</td>\n",
              "      <td>0</td>\n",
              "      <td>0</td>\n",
              "      <td>0</td>\n",
              "      <td>0</td>\n",
              "      <td>0</td>\n",
              "      <td>0</td>\n",
              "      <td>0</td>\n",
              "      <td>1</td>\n",
              "      <td>0</td>\n",
              "      <td>0</td>\n",
              "      <td>0</td>\n",
              "      <td>0</td>\n",
              "      <td>0</td>\n",
              "      <td>1</td>\n",
              "      <td>9.37</td>\n",
              "      <td>200630.0</td>\n",
              "    </tr>\n",
              "    <tr>\n",
              "      <th>1</th>\n",
              "      <td>1</td>\n",
              "      <td>0</td>\n",
              "      <td>0</td>\n",
              "      <td>0</td>\n",
              "      <td>0</td>\n",
              "      <td>1</td>\n",
              "      <td>0</td>\n",
              "      <td>1</td>\n",
              "      <td>0</td>\n",
              "      <td>0</td>\n",
              "      <td>0</td>\n",
              "      <td>0</td>\n",
              "      <td>0</td>\n",
              "      <td>0</td>\n",
              "      <td>0</td>\n",
              "      <td>1</td>\n",
              "      <td>0</td>\n",
              "      <td>0</td>\n",
              "      <td>1</td>\n",
              "      <td>0</td>\n",
              "      <td>0</td>\n",
              "      <td>0</td>\n",
              "      <td>0</td>\n",
              "      <td>0</td>\n",
              "      <td>0</td>\n",
              "      <td>0</td>\n",
              "      <td>0</td>\n",
              "      <td>0</td>\n",
              "      <td>0</td>\n",
              "      <td>0</td>\n",
              "      <td>0</td>\n",
              "      <td>1</td>\n",
              "      <td>0</td>\n",
              "      <td>0</td>\n",
              "      <td>0</td>\n",
              "      <td>0</td>\n",
              "      <td>0</td>\n",
              "      <td>0</td>\n",
              "      <td>0</td>\n",
              "      <td>0</td>\n",
              "      <td>...</td>\n",
              "      <td>0</td>\n",
              "      <td>0</td>\n",
              "      <td>0</td>\n",
              "      <td>0</td>\n",
              "      <td>0</td>\n",
              "      <td>0</td>\n",
              "      <td>0</td>\n",
              "      <td>0</td>\n",
              "      <td>0</td>\n",
              "      <td>0</td>\n",
              "      <td>0</td>\n",
              "      <td>0</td>\n",
              "      <td>0</td>\n",
              "      <td>0</td>\n",
              "      <td>0</td>\n",
              "      <td>0</td>\n",
              "      <td>0</td>\n",
              "      <td>0</td>\n",
              "      <td>0</td>\n",
              "      <td>0</td>\n",
              "      <td>0</td>\n",
              "      <td>0</td>\n",
              "      <td>0</td>\n",
              "      <td>0</td>\n",
              "      <td>0</td>\n",
              "      <td>0</td>\n",
              "      <td>0</td>\n",
              "      <td>0</td>\n",
              "      <td>0</td>\n",
              "      <td>0</td>\n",
              "      <td>0</td>\n",
              "      <td>0</td>\n",
              "      <td>0</td>\n",
              "      <td>0</td>\n",
              "      <td>0</td>\n",
              "      <td>0</td>\n",
              "      <td>1</td>\n",
              "      <td>64</td>\n",
              "      <td>9.26</td>\n",
              "      <td>793665.0</td>\n",
              "    </tr>\n",
              "    <tr>\n",
              "      <th>2</th>\n",
              "      <td>0</td>\n",
              "      <td>0</td>\n",
              "      <td>1</td>\n",
              "      <td>0</td>\n",
              "      <td>0</td>\n",
              "      <td>0</td>\n",
              "      <td>0</td>\n",
              "      <td>0</td>\n",
              "      <td>0</td>\n",
              "      <td>0</td>\n",
              "      <td>0</td>\n",
              "      <td>1</td>\n",
              "      <td>0</td>\n",
              "      <td>0</td>\n",
              "      <td>0</td>\n",
              "      <td>0</td>\n",
              "      <td>0</td>\n",
              "      <td>0</td>\n",
              "      <td>0</td>\n",
              "      <td>0</td>\n",
              "      <td>0</td>\n",
              "      <td>1</td>\n",
              "      <td>0</td>\n",
              "      <td>0</td>\n",
              "      <td>0</td>\n",
              "      <td>1</td>\n",
              "      <td>0</td>\n",
              "      <td>1</td>\n",
              "      <td>0</td>\n",
              "      <td>0</td>\n",
              "      <td>0</td>\n",
              "      <td>1</td>\n",
              "      <td>0</td>\n",
              "      <td>0</td>\n",
              "      <td>0</td>\n",
              "      <td>0</td>\n",
              "      <td>0</td>\n",
              "      <td>0</td>\n",
              "      <td>0</td>\n",
              "      <td>0</td>\n",
              "      <td>...</td>\n",
              "      <td>0</td>\n",
              "      <td>0</td>\n",
              "      <td>0</td>\n",
              "      <td>0</td>\n",
              "      <td>0</td>\n",
              "      <td>0</td>\n",
              "      <td>0</td>\n",
              "      <td>0</td>\n",
              "      <td>0</td>\n",
              "      <td>0</td>\n",
              "      <td>0</td>\n",
              "      <td>0</td>\n",
              "      <td>0</td>\n",
              "      <td>0</td>\n",
              "      <td>0</td>\n",
              "      <td>0</td>\n",
              "      <td>0</td>\n",
              "      <td>0</td>\n",
              "      <td>0</td>\n",
              "      <td>0</td>\n",
              "      <td>0</td>\n",
              "      <td>0</td>\n",
              "      <td>0</td>\n",
              "      <td>0</td>\n",
              "      <td>0</td>\n",
              "      <td>0</td>\n",
              "      <td>0</td>\n",
              "      <td>0</td>\n",
              "      <td>0</td>\n",
              "      <td>0</td>\n",
              "      <td>0</td>\n",
              "      <td>0</td>\n",
              "      <td>0</td>\n",
              "      <td>0</td>\n",
              "      <td>0</td>\n",
              "      <td>0</td>\n",
              "      <td>1</td>\n",
              "      <td>51</td>\n",
              "      <td>9.25</td>\n",
              "      <td>114262.0</td>\n",
              "    </tr>\n",
              "    <tr>\n",
              "      <th>3</th>\n",
              "      <td>0</td>\n",
              "      <td>0</td>\n",
              "      <td>0</td>\n",
              "      <td>0</td>\n",
              "      <td>0</td>\n",
              "      <td>0</td>\n",
              "      <td>0</td>\n",
              "      <td>0</td>\n",
              "      <td>0</td>\n",
              "      <td>0</td>\n",
              "      <td>0</td>\n",
              "      <td>0</td>\n",
              "      <td>0</td>\n",
              "      <td>0</td>\n",
              "      <td>0</td>\n",
              "      <td>0</td>\n",
              "      <td>0</td>\n",
              "      <td>0</td>\n",
              "      <td>0</td>\n",
              "      <td>0</td>\n",
              "      <td>0</td>\n",
              "      <td>0</td>\n",
              "      <td>0</td>\n",
              "      <td>0</td>\n",
              "      <td>0</td>\n",
              "      <td>0</td>\n",
              "      <td>0</td>\n",
              "      <td>0</td>\n",
              "      <td>0</td>\n",
              "      <td>0</td>\n",
              "      <td>0</td>\n",
              "      <td>0</td>\n",
              "      <td>0</td>\n",
              "      <td>0</td>\n",
              "      <td>0</td>\n",
              "      <td>0</td>\n",
              "      <td>0</td>\n",
              "      <td>0</td>\n",
              "      <td>1</td>\n",
              "      <td>0</td>\n",
              "      <td>...</td>\n",
              "      <td>0</td>\n",
              "      <td>0</td>\n",
              "      <td>0</td>\n",
              "      <td>0</td>\n",
              "      <td>0</td>\n",
              "      <td>0</td>\n",
              "      <td>0</td>\n",
              "      <td>0</td>\n",
              "      <td>0</td>\n",
              "      <td>0</td>\n",
              "      <td>0</td>\n",
              "      <td>0</td>\n",
              "      <td>0</td>\n",
              "      <td>0</td>\n",
              "      <td>0</td>\n",
              "      <td>0</td>\n",
              "      <td>0</td>\n",
              "      <td>0</td>\n",
              "      <td>1</td>\n",
              "      <td>0</td>\n",
              "      <td>0</td>\n",
              "      <td>0</td>\n",
              "      <td>0</td>\n",
              "      <td>0</td>\n",
              "      <td>0</td>\n",
              "      <td>0</td>\n",
              "      <td>0</td>\n",
              "      <td>0</td>\n",
              "      <td>0</td>\n",
              "      <td>0</td>\n",
              "      <td>0</td>\n",
              "      <td>0</td>\n",
              "      <td>0</td>\n",
              "      <td>0</td>\n",
              "      <td>0</td>\n",
              "      <td>0</td>\n",
              "      <td>1</td>\n",
              "      <td>24</td>\n",
              "      <td>9.17</td>\n",
              "      <td>673572.0</td>\n",
              "    </tr>\n",
              "    <tr>\n",
              "      <th>4</th>\n",
              "      <td>0</td>\n",
              "      <td>0</td>\n",
              "      <td>1</td>\n",
              "      <td>0</td>\n",
              "      <td>0</td>\n",
              "      <td>0</td>\n",
              "      <td>0</td>\n",
              "      <td>0</td>\n",
              "      <td>0</td>\n",
              "      <td>0</td>\n",
              "      <td>0</td>\n",
              "      <td>1</td>\n",
              "      <td>0</td>\n",
              "      <td>0</td>\n",
              "      <td>0</td>\n",
              "      <td>0</td>\n",
              "      <td>0</td>\n",
              "      <td>0</td>\n",
              "      <td>0</td>\n",
              "      <td>0</td>\n",
              "      <td>0</td>\n",
              "      <td>1</td>\n",
              "      <td>0</td>\n",
              "      <td>0</td>\n",
              "      <td>0</td>\n",
              "      <td>1</td>\n",
              "      <td>0</td>\n",
              "      <td>1</td>\n",
              "      <td>0</td>\n",
              "      <td>0</td>\n",
              "      <td>0</td>\n",
              "      <td>1</td>\n",
              "      <td>0</td>\n",
              "      <td>0</td>\n",
              "      <td>0</td>\n",
              "      <td>0</td>\n",
              "      <td>0</td>\n",
              "      <td>0</td>\n",
              "      <td>0</td>\n",
              "      <td>0</td>\n",
              "      <td>...</td>\n",
              "      <td>0</td>\n",
              "      <td>0</td>\n",
              "      <td>0</td>\n",
              "      <td>0</td>\n",
              "      <td>0</td>\n",
              "      <td>0</td>\n",
              "      <td>0</td>\n",
              "      <td>0</td>\n",
              "      <td>0</td>\n",
              "      <td>0</td>\n",
              "      <td>0</td>\n",
              "      <td>0</td>\n",
              "      <td>0</td>\n",
              "      <td>0</td>\n",
              "      <td>0</td>\n",
              "      <td>0</td>\n",
              "      <td>0</td>\n",
              "      <td>0</td>\n",
              "      <td>0</td>\n",
              "      <td>0</td>\n",
              "      <td>0</td>\n",
              "      <td>0</td>\n",
              "      <td>0</td>\n",
              "      <td>0</td>\n",
              "      <td>0</td>\n",
              "      <td>0</td>\n",
              "      <td>0</td>\n",
              "      <td>0</td>\n",
              "      <td>0</td>\n",
              "      <td>0</td>\n",
              "      <td>0</td>\n",
              "      <td>0</td>\n",
              "      <td>0</td>\n",
              "      <td>0</td>\n",
              "      <td>0</td>\n",
              "      <td>0</td>\n",
              "      <td>1</td>\n",
              "      <td>51</td>\n",
              "      <td>9.16</td>\n",
              "      <td>151266.0</td>\n",
              "    </tr>\n",
              "  </tbody>\n",
              "</table>\n",
              "<p>5 rows × 93 columns</p>\n",
              "</div>"
            ],
            "text/plain": [
              "    Adventure   Cars   Comedy   Dementia  ...  TV  episodes  rating   members\n",
              "0           0      0        0          0  ...   0         1    9.37  200630.0\n",
              "1           1      0        0          0  ...   1        64    9.26  793665.0\n",
              "2           0      0        1          0  ...   1        51    9.25  114262.0\n",
              "3           0      0        0          0  ...   1        24    9.17  673572.0\n",
              "4           0      0        1          0  ...   1        51    9.16  151266.0\n",
              "\n",
              "[5 rows x 93 columns]"
            ]
          },
          "metadata": {
            "tags": []
          },
          "execution_count": 19
        }
      ]
    },
    {
      "cell_type": "code",
      "metadata": {
        "id": "K4Moh-vUF1u_",
        "outputId": "228fb206-40dc-4e9c-94d2-a45abc433e46",
        "colab": {
          "base_uri": "https://localhost:8080/"
        }
      },
      "source": [
        "scaler = MinMaxScaler(feature_range=(0,1))\n",
        "\n",
        "anime_data_scaled = scaler.fit_transform(anime_data)\n",
        "np.round(anime_data_scaled , decimals = 2)\n",
        "anime_data_scaled"
      ],
      "execution_count": 20,
      "outputs": [
        {
          "output_type": "execute_result",
          "data": {
            "text/plain": [
              "array([[0.00000000e+00, 0.00000000e+00, 0.00000000e+00, ...,\n",
              "        0.00000000e+00, 9.30000000e-01, 1.97875366e-01],\n",
              "       [1.00000000e+00, 0.00000000e+00, 0.00000000e+00, ...,\n",
              "        3.46725371e-02, 9.17777778e-01, 7.82770959e-01],\n",
              "       [0.00000000e+00, 0.00000000e+00, 1.00000000e+00, ...,\n",
              "        2.75178866e-02, 9.16666667e-01, 1.12692767e-01],\n",
              "       ...,\n",
              "       [0.00000000e+00, 0.00000000e+00, 0.00000000e+00, ...,\n",
              "        1.65107320e-03, 4.31111111e-01, 2.15007949e-04],\n",
              "       [0.00000000e+00, 0.00000000e+00, 0.00000000e+00, ...,\n",
              "        0.00000000e+00, 4.42222222e-01, 1.71611850e-04],\n",
              "       [0.00000000e+00, 0.00000000e+00, 0.00000000e+00, ...,\n",
              "        0.00000000e+00, 4.95555556e-01, 1.39064775e-04]])"
            ]
          },
          "metadata": {
            "tags": []
          },
          "execution_count": 20
        }
      ]
    },
    {
      "cell_type": "code",
      "metadata": {
        "id": "4DghhTEsJKhf",
        "outputId": "8527f5ed-dadb-4965-c6fd-35a47d7f0718",
        "colab": {
          "base_uri": "https://localhost:8080/"
        }
      },
      "source": [
        "anime_data_scaled.shape"
      ],
      "execution_count": 21,
      "outputs": [
        {
          "output_type": "execute_result",
          "data": {
            "text/plain": [
              "(12294, 93)"
            ]
          },
          "metadata": {
            "tags": []
          },
          "execution_count": 21
        }
      ]
    },
    {
      "cell_type": "markdown",
      "metadata": {
        "id": "UwtqeoPWcRen"
      },
      "source": [
        "## Using Nearest Neighbours unsupervised learning with ball_tree algorithm and 6 nearest neighbors\n",
        "\n",
        "Here the nearest neighbours will represent the animes that are similar to an anime"
      ]
    },
    {
      "cell_type": "markdown",
      "metadata": {
        "id": "jF8bJuBkc6_N"
      },
      "source": [
        "### Fitting Data"
      ]
    },
    {
      "cell_type": "code",
      "metadata": {
        "id": "PALou5sQKT0h"
      },
      "source": [
        "nn_bt = NearestNeighbors(n_neighbors=6 , algorithm='ball_tree').fit(anime_data_scaled)"
      ],
      "execution_count": 22,
      "outputs": []
    },
    {
      "cell_type": "markdown",
      "metadata": {
        "id": "1g3IUsq6c8f8"
      },
      "source": [
        "### Taking Distances and Indices of the 5 closest Animes and itself (5+1 = 6) from it"
      ]
    },
    {
      "cell_type": "code",
      "metadata": {
        "id": "paAkXEacNE4m"
      },
      "source": [
        "distances , indices = nn_bt.kneighbors(anime_data_scaled)"
      ],
      "execution_count": 23,
      "outputs": []
    },
    {
      "cell_type": "code",
      "metadata": {
        "id": "JfSpz3d4PqwI",
        "outputId": "c19de547-7420-46e6-90d1-8720cfa05188",
        "colab": {
          "base_uri": "https://localhost:8080/"
        }
      },
      "source": [
        "print(\"Distances shape : {} \\nIndices Shape: {} \\nDistances data overview : {} \\nIndices data overview : {}\".format(distances.shape , indices.shape , distances[0], indices[0]))"
      ],
      "execution_count": 24,
      "outputs": [
        {
          "output_type": "stream",
          "text": [
            "Distances shape : (12294, 6) \n",
            "Indices Shape: (12294, 6) \n",
            "Distances data overview : [0.         1.01633857 1.03484164 1.03547556 1.41673596 1.43504703] \n",
            "Indices data overview : [   0  208 1494 1959   60  894]\n"
          ],
          "name": "stdout"
        }
      ]
    },
    {
      "cell_type": "markdown",
      "metadata": {
        "id": "KI2WcGjDdIIz"
      },
      "source": [
        "### Creating a function that would return the index of the anime when provided its name"
      ]
    },
    {
      "cell_type": "code",
      "metadata": {
        "id": "1uGwkxF3SLfT",
        "outputId": "32c4f52d-098a-4d1c-8b9c-404ee1ea494c",
        "colab": {
          "base_uri": "https://localhost:8080/"
        }
      },
      "source": [
        "def get_index(name):\n",
        "  try:\n",
        "    index = anime_df[anime_df['name'] == name].index.tolist()[0]\n",
        "  except:\n",
        "    return \"Could not find the Anime\"\n",
        "  return index\n",
        "\n",
        "get_index('Steins;Gate')"
      ],
      "execution_count": 25,
      "outputs": [
        {
          "output_type": "execute_result",
          "data": {
            "text/plain": [
              "3"
            ]
          },
          "metadata": {
            "tags": []
          },
          "execution_count": 25
        }
      ]
    },
    {
      "cell_type": "markdown",
      "metadata": {
        "id": "7Eqmvw8IdSrJ"
      },
      "source": [
        "### Creating a function that would return the name of the anime when provided its index"
      ]
    },
    {
      "cell_type": "code",
      "metadata": {
        "id": "KKYg0y3VUizJ",
        "outputId": "d3f8221c-919a-4b8b-c3e9-528b2154dda5",
        "colab": {
          "base_uri": "https://localhost:8080/",
          "height": 35
        }
      },
      "source": [
        "def get_name(id):\n",
        "  try:\n",
        "    name = anime_df[anime_df.index == id]['name'].tolist()[0]\n",
        "  except:\n",
        "    return \"Could not find the Anime\"\n",
        "  return name\n",
        "\n",
        "get_name(2)"
      ],
      "execution_count": 26,
      "outputs": [
        {
          "output_type": "execute_result",
          "data": {
            "application/vnd.google.colaboratory.intrinsic+json": {
              "type": "string"
            },
            "text/plain": [
              "'Gintama°'"
            ]
          },
          "metadata": {
            "tags": []
          },
          "execution_count": 26
        }
      ]
    },
    {
      "cell_type": "markdown",
      "metadata": {
        "id": "NBTg2Z_hdVIl"
      },
      "source": [
        "## Creating a function that prints all the relevant data about the anime"
      ]
    },
    {
      "cell_type": "code",
      "metadata": {
        "id": "U1Fyqj7cVnFT",
        "outputId": "23bfdc97-70ce-43d8-9e50-604188ec77e0",
        "colab": {
          "base_uri": "https://localhost:8080/"
        }
      },
      "source": [
        "def get_info(id):\n",
        "  print(\"Name :\" , anime_df[anime_df.index == id]['name'].tolist()[0])\n",
        "  print(\"Rating :\" , anime_df[anime_df.index == id]['rating'].tolist()[0])\n",
        "  print(\"Number of Episodes :\" , anime_df[anime_df.index == id]['episodes'].tolist()[0])\n",
        "  print(\"Genre :\" , anime_df[anime_df.index == id]['genre'].tolist()[0])\n",
        "  print(\"Type :\" , anime_df[anime_df.index == id]['type'].tolist()[0])\n",
        "  print(\"Number of Members : \" , anime_df[anime_df.index == id]['members'].tolist()[0])\n",
        "\n",
        "get_info(3)"
      ],
      "execution_count": 27,
      "outputs": [
        {
          "output_type": "stream",
          "text": [
            "Name : Steins;Gate\n",
            "Rating : 9.17\n",
            "Number of Episodes : 24\n",
            "Genre : Sci-Fi, Thriller\n",
            "Type : TV\n",
            "Number of Members :  673572.0\n"
          ],
          "name": "stdout"
        }
      ]
    },
    {
      "cell_type": "markdown",
      "metadata": {
        "id": "Lo93vnoPda6f"
      },
      "source": [
        "## Creating a function that will reccomend the user anime based on an anime the user likes"
      ]
    },
    {
      "cell_type": "code",
      "metadata": {
        "id": "AMlOX22pSq8Z",
        "outputId": "8775db85-a6d1-4892-a4d8-8bd1982277c0",
        "colab": {
          "base_uri": "https://localhost:8080/"
        }
      },
      "source": [
        "def reccomend_me(name = None , id = None):\n",
        "  if name != None:\n",
        "    id = get_index(name)\n",
        "  print(\"Here are some of the Animes you would like to watch :\")\n",
        "\n",
        "  for index in indices[id][1:]:   #the first index in indices will be the anime itself so we have to print [1:] i.e. the other animes\n",
        "    print(\"------------------------------------------------------------------\")\n",
        "    get_info(index)\n",
        "\n",
        "reccomend_me('Shingeki no Kyojin')"
      ],
      "execution_count": 28,
      "outputs": [
        {
          "output_type": "stream",
          "text": [
            "Here are some of the Animes you would like to watch :\n",
            "------------------------------------------------------------------\n",
            "Name : Shingeki no Kyojin Season 2\n",
            "Rating : 6.56\n",
            "Number of Episodes : 2.0\n",
            "Genre : Action, Drama, Fantasy, Shounen, Super Power\n",
            "Type : TV\n",
            "Number of Members :  170054.0\n",
            "------------------------------------------------------------------\n",
            "Name : One Piece\n",
            "Rating : 8.58\n",
            "Number of Episodes : 2.0\n",
            "Genre : Action, Adventure, Comedy, Drama, Fantasy, Shounen, Super Power\n",
            "Type : TV\n",
            "Number of Members :  504862.0\n",
            "------------------------------------------------------------------\n",
            "Name : Shingeki no Kyojin OVA\n",
            "Rating : 7.88\n",
            "Number of Episodes : 3\n",
            "Genre : Action, Drama, Fantasy, Shounen, Super Power\n",
            "Type : OVA\n",
            "Number of Members :  121063.0\n",
            "------------------------------------------------------------------\n",
            "Name : Utawarerumono: Itsuwari no Kamen\n",
            "Rating : 7.35\n",
            "Number of Episodes : 25\n",
            "Genre : Action, Drama, Fantasy\n",
            "Type : TV\n",
            "Number of Members :  55851.0\n",
            "------------------------------------------------------------------\n",
            "Name : Shingeki no Kyojin: Ano Hi Kara\n",
            "Rating : 6.96\n",
            "Number of Episodes : 1\n",
            "Genre : Action, Drama, Fantasy, Shounen, Super Power\n",
            "Type : Special\n",
            "Number of Members :  49593.0\n"
          ],
          "name": "stdout"
        }
      ]
    },
    {
      "cell_type": "markdown",
      "metadata": {
        "id": "l4JU-_dYYz9h"
      },
      "source": [
        "## Run this cell if you want Reccomendations"
      ]
    },
    {
      "cell_type": "code",
      "metadata": {
        "id": "pP6p_tOiYqfj",
        "outputId": "691dbae4-055a-4528-e8a0-88de0e444b46",
        "colab": {
          "base_uri": "https://localhost:8080/"
        }
      },
      "source": [
        "anime_name = input(\"Enter Name of an anime you like : \")\n",
        "\n",
        "try:\n",
        "  anime_df[anime_df['name'] == anime_name]\n",
        "except:\n",
        "  print(\"NO SUCH ANIME FOUND\")\n",
        "\n",
        "reccomend_me(anime_name)"
      ],
      "execution_count": 29,
      "outputs": [
        {
          "output_type": "stream",
          "text": [
            "Enter Name of an anime you like : Kimi no Na wa.\n",
            "Here are some of the Animes you would like to watch :\n",
            "------------------------------------------------------------------\n",
            "Name : Kokoro ga Sakebitagatterunda.\n",
            "Rating : 8.32\n",
            "Number of Episodes : 1\n",
            "Genre : Drama, Romance, School\n",
            "Type : Movie\n",
            "Number of Members :  59652.0\n",
            "------------------------------------------------------------------\n",
            "Name : Harmonie\n",
            "Rating : 7.52\n",
            "Number of Episodes : 1\n",
            "Genre : Drama, School, Supernatural\n",
            "Type : Movie\n",
            "Number of Members :  29029.0\n",
            "------------------------------------------------------------------\n",
            "Name : Air Movie\n",
            "Rating : 7.39\n",
            "Number of Episodes : 1\n",
            "Genre : Drama, Romance, Supernatural\n",
            "Type : Movie\n",
            "Number of Members :  44179.0\n",
            "------------------------------------------------------------------\n",
            "Name : Hotarubi no Mori e\n",
            "Rating : 8.61\n",
            "Number of Episodes : 1\n",
            "Genre : Drama, Romance, Shoujo, Supernatural\n",
            "Type : Movie\n",
            "Number of Members :  197439.0\n",
            "------------------------------------------------------------------\n",
            "Name : Momo e no Tegami\n",
            "Rating : 7.78\n",
            "Number of Episodes : 1\n",
            "Genre : Drama, Supernatural\n",
            "Type : Movie\n",
            "Number of Members :  30519.0\n"
          ],
          "name": "stdout"
        }
      ]
    },
    {
      "cell_type": "markdown",
      "metadata": {
        "id": "betl2Yv7XUEI"
      },
      "source": [
        "## Trying the reccomendation system on Dragon Ball Z (shounen , action)"
      ]
    },
    {
      "cell_type": "code",
      "metadata": {
        "id": "orcGtArTU_Db",
        "outputId": "ee2f1569-65f7-4278-ccdc-561dcb759a8e",
        "colab": {
          "base_uri": "https://localhost:8080/"
        }
      },
      "source": [
        "reccomend_me('Dragon Ball Z')"
      ],
      "execution_count": 30,
      "outputs": [
        {
          "output_type": "stream",
          "text": [
            "Here are some of the Animes you would like to watch :\n",
            "------------------------------------------------------------------\n",
            "Name : Dragon Ball Kai\n",
            "Rating : 7.95\n",
            "Number of Episodes : 97\n",
            "Genre : Action, Adventure, Comedy, Fantasy, Martial Arts, Shounen, Super Power\n",
            "Type : TV\n",
            "Number of Members :  116832.0\n",
            "------------------------------------------------------------------\n",
            "Name : Dragon Ball Super\n",
            "Rating : 7.4\n",
            "Number of Episodes : 2.0\n",
            "Genre : Action, Adventure, Comedy, Fantasy, Martial Arts, Shounen, Super Power\n",
            "Type : TV\n",
            "Number of Members :  111443.0\n",
            "------------------------------------------------------------------\n",
            "Name : Dragon Ball Kai (2014)\n",
            "Rating : 8.01\n",
            "Number of Episodes : 61\n",
            "Genre : Action, Adventure, Comedy, Fantasy, Martial Arts, Shounen, Super Power\n",
            "Type : TV\n",
            "Number of Members :  42666.0\n",
            "------------------------------------------------------------------\n",
            "Name : One Piece\n",
            "Rating : 8.58\n",
            "Number of Episodes : 2.0\n",
            "Genre : Action, Adventure, Comedy, Drama, Fantasy, Shounen, Super Power\n",
            "Type : TV\n",
            "Number of Members :  504862.0\n",
            "------------------------------------------------------------------\n",
            "Name : Naruto: Shippuuden\n",
            "Rating : 7.94\n",
            "Number of Episodes : 2.0\n",
            "Genre : Action, Comedy, Martial Arts, Shounen, Super Power\n",
            "Type : TV\n",
            "Number of Members :  533578.0\n"
          ],
          "name": "stdout"
        }
      ]
    },
    {
      "cell_type": "markdown",
      "metadata": {
        "id": "HbbinMIUYFRW"
      },
      "source": [
        "## Trying reccomendation system on Haikyuu!! (Sports)"
      ]
    },
    {
      "cell_type": "code",
      "metadata": {
        "id": "e-ZQpAs6XhQp",
        "outputId": "a4c0a5d9-200f-412e-b50f-40f8c07c1cbf",
        "colab": {
          "base_uri": "https://localhost:8080/"
        }
      },
      "source": [
        "reccomend_me('Haikyuu!!')"
      ],
      "execution_count": 31,
      "outputs": [
        {
          "output_type": "stream",
          "text": [
            "Here are some of the Animes you would like to watch :\n",
            "------------------------------------------------------------------\n",
            "Name : Haikyuu!! Second Season\n",
            "Rating : 8.93\n",
            "Number of Episodes : 25\n",
            "Genre : Comedy, Drama, School, Shounen, Sports\n",
            "Type : TV\n",
            "Number of Members :  179342.0\n",
            "------------------------------------------------------------------\n",
            "Name : Haikyuu!!: Karasuno Koukou VS Shiratorizawa Gakuen Koukou\n",
            "Rating : 9.15\n",
            "Number of Episodes : 10\n",
            "Genre : Comedy, Drama, School, Shounen, Sports\n",
            "Type : TV\n",
            "Number of Members :  93351.0\n",
            "------------------------------------------------------------------\n",
            "Name : Slam Dunk\n",
            "Rating : 8.56\n",
            "Number of Episodes : 101\n",
            "Genre : Comedy, Drama, School, Shounen, Sports\n",
            "Type : TV\n",
            "Number of Members :  82570.0\n",
            "------------------------------------------------------------------\n",
            "Name : Kuroko no Basket 2nd Season\n",
            "Rating : 8.58\n",
            "Number of Episodes : 25\n",
            "Genre : Comedy, School, Shounen, Sports\n",
            "Type : TV\n",
            "Number of Members :  243325.0\n",
            "------------------------------------------------------------------\n",
            "Name : Kuroko no Basket\n",
            "Rating : 8.46\n",
            "Number of Episodes : 25\n",
            "Genre : Comedy, School, Shounen, Sports\n",
            "Type : TV\n",
            "Number of Members :  338315.0\n"
          ],
          "name": "stdout"
        }
      ]
    },
    {
      "cell_type": "markdown",
      "metadata": {
        "id": "FXWVAtkWbowR"
      },
      "source": [
        "## Trying reccomendation system on Hentai genre"
      ]
    },
    {
      "cell_type": "code",
      "metadata": {
        "id": "b_T4cmFNYR6o",
        "outputId": "81d02ef6-b7ea-48f3-ebf1-5358e7dfeff3",
        "colab": {
          "base_uri": "https://localhost:8080/"
        }
      },
      "source": [
        "reccomend_me('Itadaki! Seieki')"
      ],
      "execution_count": 32,
      "outputs": [
        {
          "output_type": "stream",
          "text": [
            "Here are some of the Animes you would like to watch :\n",
            "------------------------------------------------------------------\n",
            "Name : Brandish\n",
            "Rating : 6.89\n",
            "Number of Episodes : 2\n",
            "Genre : Hentai, Supernatural\n",
            "Type : OVA\n",
            "Number of Members :  6742.0\n",
            "------------------------------------------------------------------\n",
            "Name : Bible Black Gaiden\n",
            "Rating : 6.89\n",
            "Number of Episodes : 2\n",
            "Genre : Hentai, Supernatural\n",
            "Type : OVA\n",
            "Number of Members :  14478.0\n",
            "------------------------------------------------------------------\n",
            "Name : Aku no Onna Kanbu: Full Moon Night\n",
            "Rating : 6.85\n",
            "Number of Episodes : 1\n",
            "Genre : Hentai, Supernatural\n",
            "Type : OVA\n",
            "Number of Members :  3613.0\n",
            "------------------------------------------------------------------\n",
            "Name : Megachu!\n",
            "Rating : 6.61\n",
            "Number of Episodes : 3\n",
            "Genre : Hentai, Supernatural\n",
            "Type : OVA\n",
            "Number of Members :  3991.0\n",
            "------------------------------------------------------------------\n",
            "Name : Hachishaku Hachiwa Keraku Meguri: Igyou Kaikitan The Animation\n",
            "Rating : 6.59\n",
            "Number of Episodes : 2.0\n",
            "Genre : Hentai, Supernatural\n",
            "Type : OVA\n",
            "Number of Members :  481.0\n"
          ],
          "name": "stdout"
        }
      ]
    }
  ]
}